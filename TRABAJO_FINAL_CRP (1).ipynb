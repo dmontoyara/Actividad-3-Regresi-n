{
  "nbformat": 4,
  "nbformat_minor": 0,
  "metadata": {
    "colab": {
      "name": "TRABAJO FINAL CRP",
      "provenance": [],
      "collapsed_sections": [
        "K46yu6tFvrQF",
        "3U3Jx4Axsw8V",
        "RYM-9SIWW8Zy",
        "Gydz-gbAZPc9",
        "mRc56fw61Bt-",
        "Ejnf2T3hfqDg",
        "5jS-IvX_zM8b",
        "oqgESRjFvrQK",
        "-zFQcvmZzUY8",
        "wZsrxsfKzWx5",
        "6JLVfTAR9iHp"
      ],
      "toc_visible": true
    },
    "kernelspec": {
      "display_name": "Python 3",
      "language": "python",
      "name": "python3"
    },
    "language_info": {
      "codemirror_mode": {
        "name": "ipython",
        "version": 3
      },
      "file_extension": ".py",
      "mimetype": "text/x-python",
      "name": "python",
      "nbconvert_exporter": "python",
      "pygments_lexer": "ipython3",
      "version": "3.7.4"
    }
  },
  "cells": [
    {
      "cell_type": "markdown",
      "metadata": {
        "id": "JMmFF7PvvrQF"
      },
      "source": [
        "#**Proyecto Aprendizaje de máquinas: Detección de cáncer de mama**\n",
        "\n",
        "\n"
      ]
    },
    {
      "cell_type": "markdown",
      "metadata": {
        "id": "hKn7ns-CvrQF"
      },
      "source": [
        "El objetivo de este proyecto es realizar un análisis detallado de la información que permita la implementación de modelos de machine learning para detectar si la masa mamaria presenta una condición benigna o maligna. Se implementaran diferentes modelos y se evaluara para obtener el de mayor rendimiento y precisión para el caso de estudio."
      ]
    },
    {
      "cell_type": "markdown",
      "metadata": {
        "id": "2rACCW-_jzQy"
      },
      "source": [
        "**CASO DE ESTUDIO**\n",
        "\n",
        "\n",
        "Las características se calculan a partir de una imagen digitalizada de un aspirado con aguja fina (FNA) de una masa mamaria. Describen las características de los núcleos celulares presentes en la imagen. \n",
        "\n",
        "Dentro de las imágenes se estudiaron las siguientes características, que además son las variables de interés para el desarrllo de los modelos de Machine Learning.\n",
        "\n",
        "b) textura (desviación estándar de los valores de la escala de grises)\n",
        "\n",
        "a) radio (media de las distancias desde el centro a los puntos en el perímetro)\n",
        "\n",
        "c) perímetro\n",
        "\n",
        "d) área\n",
        "\n",
        "e) suavidad (variación local en las longitudes de los radios)\n",
        "\n",
        "f) compacidad (perímetro ^ 2 / área - 1.0)\n",
        "\n",
        "g) concavidad (severidad de las porciones cóncavas del contorno)\n",
        "\n",
        "h ) puntos cóncavos (número de porciones cóncavas del contorno)\n",
        "\n",
        "i) simetría\n",
        "\n",
        "j) dimensión fractal (\"aproximación de la línea de costa\" - 1)\n",
        "\n",
        "Y la variable respuesta es el diagnóstico sobre la masa mamaria:\n",
        "Diagnóstico (M = maligno, B = benigno)"
      ]
    },
    {
      "cell_type": "markdown",
      "metadata": {
        "id": "K46yu6tFvrQF"
      },
      "source": [
        "# Análisis Exploratorio de Datos"
      ]
    },
    {
      "cell_type": "code",
      "metadata": {
        "id": "yoM_kkPSZI85",
        "colab": {
          "base_uri": "https://localhost:8080/"
        },
        "outputId": "f5972ef7-0fef-4838-f80a-43f9c8cf8510"
      },
      "source": [
        "#Librerías\n",
        "import pandas as pd\n",
        "import numpy as np\n",
        "import seaborn as sns\n",
        "import matplotlib.pyplot as plt\n",
        "import statsmodels.api as sm\n",
        "from sklearn.model_selection import train_test_split\n",
        "from sklearn.preprocessing import MinMaxScaler\n",
        "from sklearn.linear_model import LogisticRegression\n",
        "from sklearn.tree import DecisionTreeClassifier\n",
        "from sklearn import tree\n",
        "from sklearn.neighbors import KNeighborsClassifier\n",
        "from sklearn.discriminant_analysis import LinearDiscriminantAnalysis\n",
        "from sklearn.naive_bayes import GaussianNB\n",
        "from sklearn.svm import SVC\n",
        "from sklearn import svm\n",
        "from sklearn.metrics import classification_report\n",
        "from sklearn.metrics import confusion_matrix\n",
        "from sklearn.ensemble import RandomForestClassifier\n",
        "from sklearn.model_selection import KFold\n",
        "from sklearn.model_selection import train_test_split\n",
        "from sklearn import model_selection\n",
        "from sklearn.metrics import accuracy_score\n",
        "from sklearn.ensemble import RandomForestRegressor\n",
        "from sklearn.metrics import f1_score\n",
        "from sklearn import metrics\n",
        "import matplotlib.pyplot as plt\n",
        "\n",
        "#Arbol\n",
        "# Librerias\n",
        "from sklearn.model_selection import train_test_split\n",
        "from sklearn.tree import DecisionTreeClassifier\n",
        "from sklearn.preprocessing import MinMaxScaler\n",
        "from sklearn import tree\n",
        "from sklearn.metrics import accuracy_score, confusion_matrix\n",
        "from sklearn.metrics import f1_score\n",
        "from sklearn.metrics import classification_report\n",
        "from sklearn.metrics import confusion_matrix\n",
        "from sklearn.model_selection import cross_val_score\n",
        "from sklearn.model_selection import KFold\n",
        "import matplotlib.pyplot as plt\n",
        "from pandas import read_csv\n",
        "from sklearn.model_selection import GridSearchCV\n",
        "from sklearn.model_selection import StratifiedKFold\n",
        "from sklearn.preprocessing import LabelEncoder\n",
        "import matplotlib\n",
        "matplotlib.use('Agg')\n",
        "from matplotlib import pyplot\n",
        "import numpy as np\n",
        "\n",
        "#SVM\n",
        "from sklearn.model_selection import KFold\n",
        "from sklearn.metrics import accuracy_score, confusion_matrix\n",
        "from sklearn.metrics import f1_score\n",
        "from sklearn.model_selection import GridSearchCV\n",
        "from sklearn.svm import SVC\n",
        "from sklearn.preprocessing import MinMaxScaler\n",
        "from sklearn.model_selection import train_test_split\n",
        "\n",
        "#KNN y Naive Bayes\n",
        "import statsmodels.formula.api as sm\n",
        "from sklearn.model_selection import train_test_split \n",
        "from sklearn.preprocessing import MinMaxScaler\n",
        "from sklearn.model_selection import train_test_split\n",
        "from sklearn.metrics import accuracy_score, confusion_matrix\n",
        "from sklearn.metrics import f1_score\n",
        "from numpy import mean\n",
        "from numpy import std\n",
        "from sklearn.naive_bayes import GaussianNB\n",
        "from sklearn.datasets import make_classification\n",
        "from sklearn.model_selection import KFold\n",
        "from sklearn.model_selection import cross_val_score\n",
        "from sklearn.metrics import classification_report\n",
        "from sklearn.metrics import confusion_matrix\n",
        "\n",
        "#XGBoost\n",
        "from pandas import read_csv\n",
        "from xgboost import XGBClassifier\n",
        "from sklearn.model_selection import GridSearchCV\n",
        "from sklearn.model_selection import StratifiedKFold\n",
        "from sklearn.preprocessing import LabelEncoder\n",
        "import matplotlib\n",
        "matplotlib.use('Agg')\n",
        "from matplotlib import pyplot\n",
        "import pandas as pd\n",
        "import xgboost as xgb\n",
        "from numpy import array\n",
        "from sklearn.model_selection import train_test_split\n",
        "from sklearn.metrics import confusion_matrix\n",
        "from sklearn.metrics import accuracy_score\n",
        "from sklearn.metrics import classification_report\n",
        "from urllib.request import urlretrieve\n",
        "from sklearn.model_selection import train_test_split\n",
        "from sklearn.tree import DecisionTreeClassifier\n",
        "from sklearn.preprocessing import MinMaxScaler\n",
        "from sklearn import tree\n",
        "from sklearn.metrics import accuracy_score, confusion_matrix\n",
        "from sklearn.metrics import f1_score\n",
        "from sklearn.metrics import classification_report\n",
        "from sklearn.metrics import confusion_matrix\n",
        "from sklearn.model_selection import cross_val_score\n",
        "from sklearn.model_selection import KFold\n",
        "import matplotlib.pyplot as plt\n",
        "from pandas import read_csv\n",
        "from sklearn.model_selection import GridSearchCV\n",
        "from sklearn.model_selection import StratifiedKFold\n",
        "from sklearn.preprocessing import LabelEncoder\n",
        "import matplotlib\n",
        "matplotlib.use('Agg')\n",
        "from matplotlib import pyplot\n",
        "import numpy as np\n",
        "\n",
        "#RN\n",
        "from sklearn.neural_network import MLPClassifier\n",
        "\n",
        "#KNN\n",
        "from numpy import mean\n",
        "from numpy import std\n",
        "from sklearn.neighbors import KNeighborsClassifier\n",
        "from sklearn.naive_bayes import GaussianNB\n",
        "from sklearn.datasets import make_classification\n",
        "from sklearn.model_selection import KFold\n",
        "from sklearn.model_selection import cross_val_score\n",
        "from sklearn.metrics import classification_report\n",
        "from sklearn.metrics import confusion_matrix\n",
        "from sklearn.metrics import f1_score\n",
        "\n",
        "# Random forest y RL\n",
        "import numpy as np\n",
        "import pandas as pd\n",
        "import matplotlib.pyplot as plt\n",
        "import seaborn as sns\n",
        "import pandas as pd\n",
        "import numpy as np\n",
        "import seaborn as sns\n",
        "import matplotlib.pyplot as plt\n",
        "import statsmodels.api as sm\n",
        "from sklearn.model_selection import train_test_split\n",
        "from sklearn.preprocessing import MinMaxScaler\n",
        "from sklearn.linear_model import LogisticRegression\n",
        "from sklearn.tree import DecisionTreeClassifier\n",
        "from sklearn import tree\n",
        "from sklearn.neighbors import KNeighborsClassifier\n",
        "from sklearn.discriminant_analysis import LinearDiscriminantAnalysis\n",
        "from sklearn.naive_bayes import GaussianNB\n",
        "from sklearn.svm import SVC\n",
        "from sklearn import svm\n",
        "from sklearn.metrics import classification_report\n",
        "from sklearn.metrics import confusion_matrix\n",
        "from sklearn.ensemble import RandomForestClassifier\n",
        "from sklearn.model_selection import KFold\n",
        "from sklearn.model_selection import train_test_split\n",
        "from sklearn import model_selection\n",
        "from sklearn.metrics import accuracy_score\n",
        "from sklearn.ensemble import RandomForestRegressor\n",
        "from sklearn.metrics import f1_score\n",
        "from sklearn import metrics\n",
        "import matplotlib.pyplot as plt\n",
        "\n"
      ],
      "execution_count": null,
      "outputs": [
        {
          "output_type": "stream",
          "text": [
            "/usr/local/lib/python3.7/dist-packages/statsmodels/tools/_testing.py:19: FutureWarning: pandas.util.testing is deprecated. Use the functions in the public API at pandas.testing instead.\n",
            "  import pandas.util.testing as tm\n"
          ],
          "name": "stderr"
        }
      ]
    },
    {
      "cell_type": "code",
      "metadata": {
        "colab": {
          "base_uri": "https://localhost:8080/"
        },
        "id": "gqfK6X1Gm46K",
        "outputId": "79d2d1d2-ef71-47d0-b30e-90cfb3389a4c"
      },
      "source": [
        "from google.colab import drive\n",
        "drive.mount('/content/drive')"
      ],
      "execution_count": null,
      "outputs": [
        {
          "output_type": "stream",
          "text": [
            "Drive already mounted at /content/drive; to attempt to forcibly remount, call drive.mount(\"/content/drive\", force_remount=True).\n"
          ],
          "name": "stdout"
        }
      ]
    },
    {
      "cell_type": "code",
      "metadata": {
        "id": "9Su31Td0vrQF"
      },
      "source": [
        ""
      ],
      "execution_count": null,
      "outputs": []
    },
    {
      "cell_type": "code",
      "metadata": {
        "colab": {
          "base_uri": "https://localhost:8080/",
          "height": 235
        },
        "id": "-oNuHcNyvrQG",
        "outputId": "2a6a225a-be70-4a1f-e77b-f21e25de5456"
      },
      "source": [
        "#lectura de la base de datos\n",
        "data_cancer =  pd.read_csv(\"/content/drive/MyDrive/Trabajo final_Aprendizaje_Maquinas/data.csv\", sep=\";\")\n",
        "data_cancer.head()"
      ],
      "execution_count": null,
      "outputs": [
        {
          "output_type": "execute_result",
          "data": {
            "text/html": [
              "<div>\n",
              "<style scoped>\n",
              "    .dataframe tbody tr th:only-of-type {\n",
              "        vertical-align: middle;\n",
              "    }\n",
              "\n",
              "    .dataframe tbody tr th {\n",
              "        vertical-align: top;\n",
              "    }\n",
              "\n",
              "    .dataframe thead th {\n",
              "        text-align: right;\n",
              "    }\n",
              "</style>\n",
              "<table border=\"1\" class=\"dataframe\">\n",
              "  <thead>\n",
              "    <tr style=\"text-align: right;\">\n",
              "      <th></th>\n",
              "      <th>id</th>\n",
              "      <th>diagnosis</th>\n",
              "      <th>radius_mean</th>\n",
              "      <th>texture_mean</th>\n",
              "      <th>perimeter_mean</th>\n",
              "      <th>area_mean</th>\n",
              "      <th>smoothness_mean</th>\n",
              "      <th>compactness_mean</th>\n",
              "      <th>concavity_mean</th>\n",
              "      <th>concave points_mean</th>\n",
              "      <th>symmetry_mean</th>\n",
              "      <th>fractal_dimension_mean</th>\n",
              "      <th>radius_se</th>\n",
              "      <th>texture_se</th>\n",
              "      <th>perimeter_se</th>\n",
              "      <th>area_se</th>\n",
              "      <th>smoothness_se</th>\n",
              "      <th>compactness_se</th>\n",
              "      <th>concavity_se</th>\n",
              "      <th>concave points_se</th>\n",
              "      <th>symmetry_se</th>\n",
              "      <th>fractal_dimension_se</th>\n",
              "      <th>radius_worst</th>\n",
              "      <th>texture_worst</th>\n",
              "      <th>perimeter_worst</th>\n",
              "      <th>area_worst</th>\n",
              "      <th>smoothness_worst</th>\n",
              "      <th>compactness_worst</th>\n",
              "      <th>concavity_worst</th>\n",
              "      <th>concave points_worst</th>\n",
              "      <th>symmetry_worst</th>\n",
              "      <th>fractal_dimension_worst</th>\n",
              "    </tr>\n",
              "  </thead>\n",
              "  <tbody>\n",
              "    <tr>\n",
              "      <th>0</th>\n",
              "      <td>842302</td>\n",
              "      <td>M</td>\n",
              "      <td>17.99</td>\n",
              "      <td>10.38</td>\n",
              "      <td>122.80</td>\n",
              "      <td>1001.0</td>\n",
              "      <td>0.11840</td>\n",
              "      <td>0.27760</td>\n",
              "      <td>0.3001</td>\n",
              "      <td>0.14710</td>\n",
              "      <td>0.2419</td>\n",
              "      <td>0.07871</td>\n",
              "      <td>1.0950</td>\n",
              "      <td>0.9053</td>\n",
              "      <td>8.589</td>\n",
              "      <td>153.40</td>\n",
              "      <td>0.006399</td>\n",
              "      <td>0.04904</td>\n",
              "      <td>0.05373</td>\n",
              "      <td>0.01587</td>\n",
              "      <td>0.03003</td>\n",
              "      <td>0.006193</td>\n",
              "      <td>25.38</td>\n",
              "      <td>17.33</td>\n",
              "      <td>184.60</td>\n",
              "      <td>2019.0</td>\n",
              "      <td>0.1622</td>\n",
              "      <td>0.6656</td>\n",
              "      <td>0.7119</td>\n",
              "      <td>0.2654</td>\n",
              "      <td>0.4601</td>\n",
              "      <td>0.11890</td>\n",
              "    </tr>\n",
              "    <tr>\n",
              "      <th>1</th>\n",
              "      <td>842517</td>\n",
              "      <td>M</td>\n",
              "      <td>20.57</td>\n",
              "      <td>17.77</td>\n",
              "      <td>132.90</td>\n",
              "      <td>1326.0</td>\n",
              "      <td>0.08474</td>\n",
              "      <td>0.07864</td>\n",
              "      <td>0.0869</td>\n",
              "      <td>0.07017</td>\n",
              "      <td>0.1812</td>\n",
              "      <td>0.05667</td>\n",
              "      <td>0.5435</td>\n",
              "      <td>0.7339</td>\n",
              "      <td>3.398</td>\n",
              "      <td>74.08</td>\n",
              "      <td>0.005225</td>\n",
              "      <td>0.01308</td>\n",
              "      <td>0.01860</td>\n",
              "      <td>0.01340</td>\n",
              "      <td>0.01389</td>\n",
              "      <td>0.003532</td>\n",
              "      <td>24.99</td>\n",
              "      <td>23.41</td>\n",
              "      <td>158.80</td>\n",
              "      <td>1956.0</td>\n",
              "      <td>0.1238</td>\n",
              "      <td>0.1866</td>\n",
              "      <td>0.2416</td>\n",
              "      <td>0.1860</td>\n",
              "      <td>0.2750</td>\n",
              "      <td>0.08902</td>\n",
              "    </tr>\n",
              "    <tr>\n",
              "      <th>2</th>\n",
              "      <td>84300903</td>\n",
              "      <td>M</td>\n",
              "      <td>19.69</td>\n",
              "      <td>21.25</td>\n",
              "      <td>130.00</td>\n",
              "      <td>1203.0</td>\n",
              "      <td>0.10960</td>\n",
              "      <td>0.15990</td>\n",
              "      <td>0.1974</td>\n",
              "      <td>0.12790</td>\n",
              "      <td>0.2069</td>\n",
              "      <td>0.05999</td>\n",
              "      <td>0.7456</td>\n",
              "      <td>0.7869</td>\n",
              "      <td>4.585</td>\n",
              "      <td>94.03</td>\n",
              "      <td>0.006150</td>\n",
              "      <td>0.04006</td>\n",
              "      <td>0.03832</td>\n",
              "      <td>0.02058</td>\n",
              "      <td>0.02250</td>\n",
              "      <td>0.004571</td>\n",
              "      <td>23.57</td>\n",
              "      <td>25.53</td>\n",
              "      <td>152.50</td>\n",
              "      <td>1709.0</td>\n",
              "      <td>0.1444</td>\n",
              "      <td>0.4245</td>\n",
              "      <td>0.4504</td>\n",
              "      <td>0.2430</td>\n",
              "      <td>0.3613</td>\n",
              "      <td>0.08758</td>\n",
              "    </tr>\n",
              "    <tr>\n",
              "      <th>3</th>\n",
              "      <td>84348301</td>\n",
              "      <td>M</td>\n",
              "      <td>11.42</td>\n",
              "      <td>20.38</td>\n",
              "      <td>77.58</td>\n",
              "      <td>386.1</td>\n",
              "      <td>0.14250</td>\n",
              "      <td>0.28390</td>\n",
              "      <td>0.2414</td>\n",
              "      <td>0.10520</td>\n",
              "      <td>0.2597</td>\n",
              "      <td>0.09744</td>\n",
              "      <td>0.4956</td>\n",
              "      <td>1.1560</td>\n",
              "      <td>3.445</td>\n",
              "      <td>27.23</td>\n",
              "      <td>0.009110</td>\n",
              "      <td>0.07458</td>\n",
              "      <td>0.05661</td>\n",
              "      <td>0.01867</td>\n",
              "      <td>0.05963</td>\n",
              "      <td>0.009208</td>\n",
              "      <td>14.91</td>\n",
              "      <td>26.50</td>\n",
              "      <td>98.87</td>\n",
              "      <td>567.7</td>\n",
              "      <td>0.2098</td>\n",
              "      <td>0.8663</td>\n",
              "      <td>0.6869</td>\n",
              "      <td>0.2575</td>\n",
              "      <td>0.6638</td>\n",
              "      <td>0.17300</td>\n",
              "    </tr>\n",
              "    <tr>\n",
              "      <th>4</th>\n",
              "      <td>84358402</td>\n",
              "      <td>M</td>\n",
              "      <td>20.29</td>\n",
              "      <td>14.34</td>\n",
              "      <td>135.10</td>\n",
              "      <td>1297.0</td>\n",
              "      <td>0.10030</td>\n",
              "      <td>0.13280</td>\n",
              "      <td>0.1980</td>\n",
              "      <td>0.10430</td>\n",
              "      <td>0.1809</td>\n",
              "      <td>0.05883</td>\n",
              "      <td>0.7572</td>\n",
              "      <td>0.7813</td>\n",
              "      <td>5.438</td>\n",
              "      <td>94.44</td>\n",
              "      <td>0.011490</td>\n",
              "      <td>0.02461</td>\n",
              "      <td>0.05688</td>\n",
              "      <td>0.01885</td>\n",
              "      <td>0.01756</td>\n",
              "      <td>0.005115</td>\n",
              "      <td>22.54</td>\n",
              "      <td>16.67</td>\n",
              "      <td>152.20</td>\n",
              "      <td>1575.0</td>\n",
              "      <td>0.1374</td>\n",
              "      <td>0.2050</td>\n",
              "      <td>0.4000</td>\n",
              "      <td>0.1625</td>\n",
              "      <td>0.2364</td>\n",
              "      <td>0.07678</td>\n",
              "    </tr>\n",
              "  </tbody>\n",
              "</table>\n",
              "</div>"
            ],
            "text/plain": [
              "         id diagnosis  ...  symmetry_worst  fractal_dimension_worst\n",
              "0    842302         M  ...          0.4601                  0.11890\n",
              "1    842517         M  ...          0.2750                  0.08902\n",
              "2  84300903         M  ...          0.3613                  0.08758\n",
              "3  84348301         M  ...          0.6638                  0.17300\n",
              "4  84358402         M  ...          0.2364                  0.07678\n",
              "\n",
              "[5 rows x 32 columns]"
            ]
          },
          "metadata": {
            "tags": []
          },
          "execution_count": 21
        }
      ]
    },
    {
      "cell_type": "code",
      "metadata": {
        "colab": {
          "base_uri": "https://localhost:8080/",
          "height": 235
        },
        "id": "vGmIrbIHvrQH",
        "outputId": "10b92b03-166a-406b-84e4-cfbe0484317c"
      },
      "source": [
        "#Visualización completa del data set\n",
        "pd.set_option('display.max_columns', None)\n",
        "data_cancer.head()"
      ],
      "execution_count": null,
      "outputs": [
        {
          "output_type": "execute_result",
          "data": {
            "text/html": [
              "<div>\n",
              "<style scoped>\n",
              "    .dataframe tbody tr th:only-of-type {\n",
              "        vertical-align: middle;\n",
              "    }\n",
              "\n",
              "    .dataframe tbody tr th {\n",
              "        vertical-align: top;\n",
              "    }\n",
              "\n",
              "    .dataframe thead th {\n",
              "        text-align: right;\n",
              "    }\n",
              "</style>\n",
              "<table border=\"1\" class=\"dataframe\">\n",
              "  <thead>\n",
              "    <tr style=\"text-align: right;\">\n",
              "      <th></th>\n",
              "      <th>id</th>\n",
              "      <th>diagnosis</th>\n",
              "      <th>radius_mean</th>\n",
              "      <th>texture_mean</th>\n",
              "      <th>perimeter_mean</th>\n",
              "      <th>area_mean</th>\n",
              "      <th>smoothness_mean</th>\n",
              "      <th>compactness_mean</th>\n",
              "      <th>concavity_mean</th>\n",
              "      <th>concave points_mean</th>\n",
              "      <th>symmetry_mean</th>\n",
              "      <th>fractal_dimension_mean</th>\n",
              "      <th>radius_se</th>\n",
              "      <th>texture_se</th>\n",
              "      <th>perimeter_se</th>\n",
              "      <th>area_se</th>\n",
              "      <th>smoothness_se</th>\n",
              "      <th>compactness_se</th>\n",
              "      <th>concavity_se</th>\n",
              "      <th>concave points_se</th>\n",
              "      <th>symmetry_se</th>\n",
              "      <th>fractal_dimension_se</th>\n",
              "      <th>radius_worst</th>\n",
              "      <th>texture_worst</th>\n",
              "      <th>perimeter_worst</th>\n",
              "      <th>area_worst</th>\n",
              "      <th>smoothness_worst</th>\n",
              "      <th>compactness_worst</th>\n",
              "      <th>concavity_worst</th>\n",
              "      <th>concave points_worst</th>\n",
              "      <th>symmetry_worst</th>\n",
              "      <th>fractal_dimension_worst</th>\n",
              "    </tr>\n",
              "  </thead>\n",
              "  <tbody>\n",
              "    <tr>\n",
              "      <th>0</th>\n",
              "      <td>842302</td>\n",
              "      <td>M</td>\n",
              "      <td>17.99</td>\n",
              "      <td>10.38</td>\n",
              "      <td>122.80</td>\n",
              "      <td>1001.0</td>\n",
              "      <td>0.11840</td>\n",
              "      <td>0.27760</td>\n",
              "      <td>0.3001</td>\n",
              "      <td>0.14710</td>\n",
              "      <td>0.2419</td>\n",
              "      <td>0.07871</td>\n",
              "      <td>1.0950</td>\n",
              "      <td>0.9053</td>\n",
              "      <td>8.589</td>\n",
              "      <td>153.40</td>\n",
              "      <td>0.006399</td>\n",
              "      <td>0.04904</td>\n",
              "      <td>0.05373</td>\n",
              "      <td>0.01587</td>\n",
              "      <td>0.03003</td>\n",
              "      <td>0.006193</td>\n",
              "      <td>25.38</td>\n",
              "      <td>17.33</td>\n",
              "      <td>184.60</td>\n",
              "      <td>2019.0</td>\n",
              "      <td>0.1622</td>\n",
              "      <td>0.6656</td>\n",
              "      <td>0.7119</td>\n",
              "      <td>0.2654</td>\n",
              "      <td>0.4601</td>\n",
              "      <td>0.11890</td>\n",
              "    </tr>\n",
              "    <tr>\n",
              "      <th>1</th>\n",
              "      <td>842517</td>\n",
              "      <td>M</td>\n",
              "      <td>20.57</td>\n",
              "      <td>17.77</td>\n",
              "      <td>132.90</td>\n",
              "      <td>1326.0</td>\n",
              "      <td>0.08474</td>\n",
              "      <td>0.07864</td>\n",
              "      <td>0.0869</td>\n",
              "      <td>0.07017</td>\n",
              "      <td>0.1812</td>\n",
              "      <td>0.05667</td>\n",
              "      <td>0.5435</td>\n",
              "      <td>0.7339</td>\n",
              "      <td>3.398</td>\n",
              "      <td>74.08</td>\n",
              "      <td>0.005225</td>\n",
              "      <td>0.01308</td>\n",
              "      <td>0.01860</td>\n",
              "      <td>0.01340</td>\n",
              "      <td>0.01389</td>\n",
              "      <td>0.003532</td>\n",
              "      <td>24.99</td>\n",
              "      <td>23.41</td>\n",
              "      <td>158.80</td>\n",
              "      <td>1956.0</td>\n",
              "      <td>0.1238</td>\n",
              "      <td>0.1866</td>\n",
              "      <td>0.2416</td>\n",
              "      <td>0.1860</td>\n",
              "      <td>0.2750</td>\n",
              "      <td>0.08902</td>\n",
              "    </tr>\n",
              "    <tr>\n",
              "      <th>2</th>\n",
              "      <td>84300903</td>\n",
              "      <td>M</td>\n",
              "      <td>19.69</td>\n",
              "      <td>21.25</td>\n",
              "      <td>130.00</td>\n",
              "      <td>1203.0</td>\n",
              "      <td>0.10960</td>\n",
              "      <td>0.15990</td>\n",
              "      <td>0.1974</td>\n",
              "      <td>0.12790</td>\n",
              "      <td>0.2069</td>\n",
              "      <td>0.05999</td>\n",
              "      <td>0.7456</td>\n",
              "      <td>0.7869</td>\n",
              "      <td>4.585</td>\n",
              "      <td>94.03</td>\n",
              "      <td>0.006150</td>\n",
              "      <td>0.04006</td>\n",
              "      <td>0.03832</td>\n",
              "      <td>0.02058</td>\n",
              "      <td>0.02250</td>\n",
              "      <td>0.004571</td>\n",
              "      <td>23.57</td>\n",
              "      <td>25.53</td>\n",
              "      <td>152.50</td>\n",
              "      <td>1709.0</td>\n",
              "      <td>0.1444</td>\n",
              "      <td>0.4245</td>\n",
              "      <td>0.4504</td>\n",
              "      <td>0.2430</td>\n",
              "      <td>0.3613</td>\n",
              "      <td>0.08758</td>\n",
              "    </tr>\n",
              "    <tr>\n",
              "      <th>3</th>\n",
              "      <td>84348301</td>\n",
              "      <td>M</td>\n",
              "      <td>11.42</td>\n",
              "      <td>20.38</td>\n",
              "      <td>77.58</td>\n",
              "      <td>386.1</td>\n",
              "      <td>0.14250</td>\n",
              "      <td>0.28390</td>\n",
              "      <td>0.2414</td>\n",
              "      <td>0.10520</td>\n",
              "      <td>0.2597</td>\n",
              "      <td>0.09744</td>\n",
              "      <td>0.4956</td>\n",
              "      <td>1.1560</td>\n",
              "      <td>3.445</td>\n",
              "      <td>27.23</td>\n",
              "      <td>0.009110</td>\n",
              "      <td>0.07458</td>\n",
              "      <td>0.05661</td>\n",
              "      <td>0.01867</td>\n",
              "      <td>0.05963</td>\n",
              "      <td>0.009208</td>\n",
              "      <td>14.91</td>\n",
              "      <td>26.50</td>\n",
              "      <td>98.87</td>\n",
              "      <td>567.7</td>\n",
              "      <td>0.2098</td>\n",
              "      <td>0.8663</td>\n",
              "      <td>0.6869</td>\n",
              "      <td>0.2575</td>\n",
              "      <td>0.6638</td>\n",
              "      <td>0.17300</td>\n",
              "    </tr>\n",
              "    <tr>\n",
              "      <th>4</th>\n",
              "      <td>84358402</td>\n",
              "      <td>M</td>\n",
              "      <td>20.29</td>\n",
              "      <td>14.34</td>\n",
              "      <td>135.10</td>\n",
              "      <td>1297.0</td>\n",
              "      <td>0.10030</td>\n",
              "      <td>0.13280</td>\n",
              "      <td>0.1980</td>\n",
              "      <td>0.10430</td>\n",
              "      <td>0.1809</td>\n",
              "      <td>0.05883</td>\n",
              "      <td>0.7572</td>\n",
              "      <td>0.7813</td>\n",
              "      <td>5.438</td>\n",
              "      <td>94.44</td>\n",
              "      <td>0.011490</td>\n",
              "      <td>0.02461</td>\n",
              "      <td>0.05688</td>\n",
              "      <td>0.01885</td>\n",
              "      <td>0.01756</td>\n",
              "      <td>0.005115</td>\n",
              "      <td>22.54</td>\n",
              "      <td>16.67</td>\n",
              "      <td>152.20</td>\n",
              "      <td>1575.0</td>\n",
              "      <td>0.1374</td>\n",
              "      <td>0.2050</td>\n",
              "      <td>0.4000</td>\n",
              "      <td>0.1625</td>\n",
              "      <td>0.2364</td>\n",
              "      <td>0.07678</td>\n",
              "    </tr>\n",
              "  </tbody>\n",
              "</table>\n",
              "</div>"
            ],
            "text/plain": [
              "         id diagnosis  radius_mean  texture_mean  perimeter_mean  area_mean  \\\n",
              "0    842302         M        17.99         10.38          122.80     1001.0   \n",
              "1    842517         M        20.57         17.77          132.90     1326.0   \n",
              "2  84300903         M        19.69         21.25          130.00     1203.0   \n",
              "3  84348301         M        11.42         20.38           77.58      386.1   \n",
              "4  84358402         M        20.29         14.34          135.10     1297.0   \n",
              "\n",
              "   smoothness_mean  compactness_mean  concavity_mean  concave points_mean  \\\n",
              "0          0.11840           0.27760          0.3001              0.14710   \n",
              "1          0.08474           0.07864          0.0869              0.07017   \n",
              "2          0.10960           0.15990          0.1974              0.12790   \n",
              "3          0.14250           0.28390          0.2414              0.10520   \n",
              "4          0.10030           0.13280          0.1980              0.10430   \n",
              "\n",
              "   symmetry_mean  fractal_dimension_mean  radius_se  texture_se  perimeter_se  \\\n",
              "0         0.2419                 0.07871     1.0950      0.9053         8.589   \n",
              "1         0.1812                 0.05667     0.5435      0.7339         3.398   \n",
              "2         0.2069                 0.05999     0.7456      0.7869         4.585   \n",
              "3         0.2597                 0.09744     0.4956      1.1560         3.445   \n",
              "4         0.1809                 0.05883     0.7572      0.7813         5.438   \n",
              "\n",
              "   area_se  smoothness_se  compactness_se  concavity_se  concave points_se  \\\n",
              "0   153.40       0.006399         0.04904       0.05373            0.01587   \n",
              "1    74.08       0.005225         0.01308       0.01860            0.01340   \n",
              "2    94.03       0.006150         0.04006       0.03832            0.02058   \n",
              "3    27.23       0.009110         0.07458       0.05661            0.01867   \n",
              "4    94.44       0.011490         0.02461       0.05688            0.01885   \n",
              "\n",
              "   symmetry_se  fractal_dimension_se  radius_worst  texture_worst  \\\n",
              "0      0.03003              0.006193         25.38          17.33   \n",
              "1      0.01389              0.003532         24.99          23.41   \n",
              "2      0.02250              0.004571         23.57          25.53   \n",
              "3      0.05963              0.009208         14.91          26.50   \n",
              "4      0.01756              0.005115         22.54          16.67   \n",
              "\n",
              "   perimeter_worst  area_worst  smoothness_worst  compactness_worst  \\\n",
              "0           184.60      2019.0            0.1622             0.6656   \n",
              "1           158.80      1956.0            0.1238             0.1866   \n",
              "2           152.50      1709.0            0.1444             0.4245   \n",
              "3            98.87       567.7            0.2098             0.8663   \n",
              "4           152.20      1575.0            0.1374             0.2050   \n",
              "\n",
              "   concavity_worst  concave points_worst  symmetry_worst  \\\n",
              "0           0.7119                0.2654          0.4601   \n",
              "1           0.2416                0.1860          0.2750   \n",
              "2           0.4504                0.2430          0.3613   \n",
              "3           0.6869                0.2575          0.6638   \n",
              "4           0.4000                0.1625          0.2364   \n",
              "\n",
              "   fractal_dimension_worst  \n",
              "0                  0.11890  \n",
              "1                  0.08902  \n",
              "2                  0.08758  \n",
              "3                  0.17300  \n",
              "4                  0.07678  "
            ]
          },
          "metadata": {
            "tags": []
          },
          "execution_count": 22
        }
      ]
    },
    {
      "cell_type": "code",
      "metadata": {
        "colab": {
          "base_uri": "https://localhost:8080/"
        },
        "id": "zvjHEzcYvrQH",
        "outputId": "26aacd6a-b7f8-45e8-d33d-48bceb175775"
      },
      "source": [
        "#Dimensión de los datos\n",
        "print(\"Tamaño del dataset - filas, columnas:\", data_cancer.shape)\n",
        "print(\"Cantidad de valores faltantes por columna:\\n\", data_cancer.isna().sum(), sep = \"\")"
      ],
      "execution_count": null,
      "outputs": [
        {
          "output_type": "stream",
          "text": [
            "Tamaño del dataset - filas, columnas: (569, 32)\n",
            "Cantidad de valores faltantes por columna:\n",
            "id                         0\n",
            "diagnosis                  0\n",
            "radius_mean                0\n",
            "texture_mean               0\n",
            "perimeter_mean             0\n",
            "area_mean                  0\n",
            "smoothness_mean            0\n",
            "compactness_mean           0\n",
            "concavity_mean             0\n",
            "concave points_mean        0\n",
            "symmetry_mean              0\n",
            "fractal_dimension_mean     0\n",
            "radius_se                  0\n",
            "texture_se                 0\n",
            "perimeter_se               0\n",
            "area_se                    0\n",
            "smoothness_se              0\n",
            "compactness_se             0\n",
            "concavity_se               0\n",
            "concave points_se          0\n",
            "symmetry_se                0\n",
            "fractal_dimension_se       0\n",
            "radius_worst               0\n",
            "texture_worst              0\n",
            "perimeter_worst            0\n",
            "area_worst                 0\n",
            "smoothness_worst           0\n",
            "compactness_worst          0\n",
            "concavity_worst            0\n",
            "concave points_worst       0\n",
            "symmetry_worst             0\n",
            "fractal_dimension_worst    0\n",
            "dtype: int64\n"
          ],
          "name": "stdout"
        }
      ]
    },
    {
      "cell_type": "code",
      "metadata": {
        "id": "HXY7pR8tvrQH",
        "colab": {
          "base_uri": "https://localhost:8080/",
          "height": 229
        },
        "outputId": "a7422140-8373-4ffa-d137-2d1ab8c56088"
      },
      "source": [
        "#Concentración de los casos de interes\n",
        "sns.countplot(x = \"diagnosis\", data = data_cancer)\n",
        "plt.xlabel(\"Diagnostico Tumor\", fontweight = \"black\", fontsize = 12)\n",
        "plt.ylabel(\"Cantidad de pacientes\", fontweight = \"black\", fontsize = 12)\n",
        "plt.title(\"Cantidad de pacientes por tumores Benignos o Malignos\", fontsize=18, color=\"black\")\n",
        "plt.show()"
      ],
      "execution_count": null,
      "outputs": [
        {
          "output_type": "error",
          "ename": "NameError",
          "evalue": "ignored",
          "traceback": [
            "\u001b[0;31m---------------------------------------------------------------------------\u001b[0m",
            "\u001b[0;31mNameError\u001b[0m                                 Traceback (most recent call last)",
            "\u001b[0;32m<ipython-input-2-12ac15c580e6>\u001b[0m in \u001b[0;36m<module>\u001b[0;34m()\u001b[0m\n\u001b[1;32m      1\u001b[0m \u001b[0;31m#Concentración de los casos de interes\u001b[0m\u001b[0;34m\u001b[0m\u001b[0;34m\u001b[0m\u001b[0;34m\u001b[0m\u001b[0m\n\u001b[0;32m----> 2\u001b[0;31m \u001b[0msns\u001b[0m\u001b[0;34m.\u001b[0m\u001b[0mcountplot\u001b[0m\u001b[0;34m(\u001b[0m\u001b[0mx\u001b[0m \u001b[0;34m=\u001b[0m \u001b[0;34m\"diagnosis\"\u001b[0m\u001b[0;34m,\u001b[0m \u001b[0mdata\u001b[0m \u001b[0;34m=\u001b[0m \u001b[0mdata_cancer\u001b[0m\u001b[0;34m)\u001b[0m\u001b[0;34m\u001b[0m\u001b[0;34m\u001b[0m\u001b[0m\n\u001b[0m\u001b[1;32m      3\u001b[0m \u001b[0mplt\u001b[0m\u001b[0;34m.\u001b[0m\u001b[0mxlabel\u001b[0m\u001b[0;34m(\u001b[0m\u001b[0;34m\"Diagnostico Tumor\"\u001b[0m\u001b[0;34m,\u001b[0m \u001b[0mfontweight\u001b[0m \u001b[0;34m=\u001b[0m \u001b[0;34m\"black\"\u001b[0m\u001b[0;34m,\u001b[0m \u001b[0mfontsize\u001b[0m \u001b[0;34m=\u001b[0m \u001b[0;36m12\u001b[0m\u001b[0;34m)\u001b[0m\u001b[0;34m\u001b[0m\u001b[0;34m\u001b[0m\u001b[0m\n\u001b[1;32m      4\u001b[0m \u001b[0mplt\u001b[0m\u001b[0;34m.\u001b[0m\u001b[0mylabel\u001b[0m\u001b[0;34m(\u001b[0m\u001b[0;34m\"Cantidad de pacientes\"\u001b[0m\u001b[0;34m,\u001b[0m \u001b[0mfontweight\u001b[0m \u001b[0;34m=\u001b[0m \u001b[0;34m\"black\"\u001b[0m\u001b[0;34m,\u001b[0m \u001b[0mfontsize\u001b[0m \u001b[0;34m=\u001b[0m \u001b[0;36m12\u001b[0m\u001b[0;34m)\u001b[0m\u001b[0;34m\u001b[0m\u001b[0;34m\u001b[0m\u001b[0m\n\u001b[1;32m      5\u001b[0m \u001b[0mplt\u001b[0m\u001b[0;34m.\u001b[0m\u001b[0mtitle\u001b[0m\u001b[0;34m(\u001b[0m\u001b[0;34m\"Cantidad de pacientes por tumores Benignos o Malignos\"\u001b[0m\u001b[0;34m,\u001b[0m \u001b[0mfontsize\u001b[0m\u001b[0;34m=\u001b[0m\u001b[0;36m18\u001b[0m\u001b[0;34m,\u001b[0m \u001b[0mcolor\u001b[0m\u001b[0;34m=\u001b[0m\u001b[0;34m\"black\"\u001b[0m\u001b[0;34m)\u001b[0m\u001b[0;34m\u001b[0m\u001b[0;34m\u001b[0m\u001b[0m\n",
            "\u001b[0;31mNameError\u001b[0m: name 'data_cancer' is not defined"
          ]
        }
      ]
    },
    {
      "cell_type": "code",
      "metadata": {
        "colab": {
          "base_uri": "https://localhost:8080/"
        },
        "id": "yzTJhoPavrQH",
        "outputId": "a0d82f50-0538-4c0b-8f40-4ba56c7f63e1"
      },
      "source": [
        "print(\"los casos buenos son\" , 357/(357+212))\n",
        "print(\"los casos malos son\" , 212/(357+212))"
      ],
      "execution_count": null,
      "outputs": [
        {
          "output_type": "stream",
          "text": [
            "los casos buenos son 0.6274165202108963\n",
            "los casos malos son 0.37258347978910367\n"
          ],
          "name": "stdout"
        }
      ]
    },
    {
      "cell_type": "code",
      "metadata": {
        "colab": {
          "base_uri": "https://localhost:8080/"
        },
        "id": "GQOepTTLvrQH",
        "outputId": "1d6a6493-d354-410a-e0ed-430fb004ef0d"
      },
      "source": [
        "data_cancer.groupby('diagnosis').size()"
      ],
      "execution_count": null,
      "outputs": [
        {
          "output_type": "execute_result",
          "data": {
            "text/plain": [
              "diagnosis\n",
              "B    357\n",
              "M    212\n",
              "dtype: int64"
            ]
          },
          "metadata": {
            "tags": []
          },
          "execution_count": 26
        }
      ]
    },
    {
      "cell_type": "code",
      "metadata": {
        "colab": {
          "base_uri": "https://localhost:8080/",
          "height": 325
        },
        "id": "VJjC3KtDvrQH",
        "outputId": "67e97a62-9aa9-44d1-8aff-d0b84c1ae316"
      },
      "source": [
        "#Detalle descriptivo\n",
        "del data_cancer[\"id\"]\n",
        "descripcion = data_cancer.describe()\n",
        "descripcion"
      ],
      "execution_count": null,
      "outputs": [
        {
          "output_type": "execute_result",
          "data": {
            "text/html": [
              "<div>\n",
              "<style scoped>\n",
              "    .dataframe tbody tr th:only-of-type {\n",
              "        vertical-align: middle;\n",
              "    }\n",
              "\n",
              "    .dataframe tbody tr th {\n",
              "        vertical-align: top;\n",
              "    }\n",
              "\n",
              "    .dataframe thead th {\n",
              "        text-align: right;\n",
              "    }\n",
              "</style>\n",
              "<table border=\"1\" class=\"dataframe\">\n",
              "  <thead>\n",
              "    <tr style=\"text-align: right;\">\n",
              "      <th></th>\n",
              "      <th>radius_mean</th>\n",
              "      <th>texture_mean</th>\n",
              "      <th>perimeter_mean</th>\n",
              "      <th>area_mean</th>\n",
              "      <th>smoothness_mean</th>\n",
              "      <th>compactness_mean</th>\n",
              "      <th>concavity_mean</th>\n",
              "      <th>concave points_mean</th>\n",
              "      <th>symmetry_mean</th>\n",
              "      <th>fractal_dimension_mean</th>\n",
              "      <th>radius_se</th>\n",
              "      <th>texture_se</th>\n",
              "      <th>perimeter_se</th>\n",
              "      <th>area_se</th>\n",
              "      <th>smoothness_se</th>\n",
              "      <th>compactness_se</th>\n",
              "      <th>concavity_se</th>\n",
              "      <th>concave points_se</th>\n",
              "      <th>symmetry_se</th>\n",
              "      <th>fractal_dimension_se</th>\n",
              "      <th>radius_worst</th>\n",
              "      <th>texture_worst</th>\n",
              "      <th>perimeter_worst</th>\n",
              "      <th>area_worst</th>\n",
              "      <th>smoothness_worst</th>\n",
              "      <th>compactness_worst</th>\n",
              "      <th>concavity_worst</th>\n",
              "      <th>concave points_worst</th>\n",
              "      <th>symmetry_worst</th>\n",
              "      <th>fractal_dimension_worst</th>\n",
              "    </tr>\n",
              "  </thead>\n",
              "  <tbody>\n",
              "    <tr>\n",
              "      <th>count</th>\n",
              "      <td>569.000000</td>\n",
              "      <td>569.000000</td>\n",
              "      <td>569.000000</td>\n",
              "      <td>569.000000</td>\n",
              "      <td>569.000000</td>\n",
              "      <td>569.000000</td>\n",
              "      <td>569.000000</td>\n",
              "      <td>569.000000</td>\n",
              "      <td>569.000000</td>\n",
              "      <td>569.000000</td>\n",
              "      <td>569.000000</td>\n",
              "      <td>569.000000</td>\n",
              "      <td>569.000000</td>\n",
              "      <td>569.000000</td>\n",
              "      <td>569.000000</td>\n",
              "      <td>569.000000</td>\n",
              "      <td>569.000000</td>\n",
              "      <td>569.000000</td>\n",
              "      <td>569.000000</td>\n",
              "      <td>569.000000</td>\n",
              "      <td>569.000000</td>\n",
              "      <td>569.000000</td>\n",
              "      <td>569.000000</td>\n",
              "      <td>569.000000</td>\n",
              "      <td>569.000000</td>\n",
              "      <td>569.000000</td>\n",
              "      <td>569.000000</td>\n",
              "      <td>569.000000</td>\n",
              "      <td>569.000000</td>\n",
              "      <td>569.000000</td>\n",
              "    </tr>\n",
              "    <tr>\n",
              "      <th>mean</th>\n",
              "      <td>14.127292</td>\n",
              "      <td>19.289649</td>\n",
              "      <td>91.969033</td>\n",
              "      <td>654.889104</td>\n",
              "      <td>0.096360</td>\n",
              "      <td>0.104341</td>\n",
              "      <td>0.088799</td>\n",
              "      <td>0.048919</td>\n",
              "      <td>0.181162</td>\n",
              "      <td>0.062798</td>\n",
              "      <td>0.405172</td>\n",
              "      <td>1.216853</td>\n",
              "      <td>2.866059</td>\n",
              "      <td>40.337079</td>\n",
              "      <td>0.007041</td>\n",
              "      <td>0.025478</td>\n",
              "      <td>0.031894</td>\n",
              "      <td>0.011796</td>\n",
              "      <td>0.020542</td>\n",
              "      <td>0.003795</td>\n",
              "      <td>16.269190</td>\n",
              "      <td>25.677223</td>\n",
              "      <td>107.261213</td>\n",
              "      <td>880.583128</td>\n",
              "      <td>0.132369</td>\n",
              "      <td>0.254265</td>\n",
              "      <td>0.272188</td>\n",
              "      <td>0.114606</td>\n",
              "      <td>0.290076</td>\n",
              "      <td>0.083946</td>\n",
              "    </tr>\n",
              "    <tr>\n",
              "      <th>std</th>\n",
              "      <td>3.524049</td>\n",
              "      <td>4.301036</td>\n",
              "      <td>24.298981</td>\n",
              "      <td>351.914129</td>\n",
              "      <td>0.014064</td>\n",
              "      <td>0.052813</td>\n",
              "      <td>0.079720</td>\n",
              "      <td>0.038803</td>\n",
              "      <td>0.027414</td>\n",
              "      <td>0.007060</td>\n",
              "      <td>0.277313</td>\n",
              "      <td>0.551648</td>\n",
              "      <td>2.021855</td>\n",
              "      <td>45.491006</td>\n",
              "      <td>0.003003</td>\n",
              "      <td>0.017908</td>\n",
              "      <td>0.030186</td>\n",
              "      <td>0.006170</td>\n",
              "      <td>0.008266</td>\n",
              "      <td>0.002646</td>\n",
              "      <td>4.833242</td>\n",
              "      <td>6.146258</td>\n",
              "      <td>33.602542</td>\n",
              "      <td>569.356993</td>\n",
              "      <td>0.022832</td>\n",
              "      <td>0.157336</td>\n",
              "      <td>0.208624</td>\n",
              "      <td>0.065732</td>\n",
              "      <td>0.061867</td>\n",
              "      <td>0.018061</td>\n",
              "    </tr>\n",
              "    <tr>\n",
              "      <th>min</th>\n",
              "      <td>6.981000</td>\n",
              "      <td>9.710000</td>\n",
              "      <td>43.790000</td>\n",
              "      <td>143.500000</td>\n",
              "      <td>0.052630</td>\n",
              "      <td>0.019380</td>\n",
              "      <td>0.000000</td>\n",
              "      <td>0.000000</td>\n",
              "      <td>0.106000</td>\n",
              "      <td>0.049960</td>\n",
              "      <td>0.111500</td>\n",
              "      <td>0.360200</td>\n",
              "      <td>0.757000</td>\n",
              "      <td>6.802000</td>\n",
              "      <td>0.001713</td>\n",
              "      <td>0.002252</td>\n",
              "      <td>0.000000</td>\n",
              "      <td>0.000000</td>\n",
              "      <td>0.007882</td>\n",
              "      <td>0.000895</td>\n",
              "      <td>7.930000</td>\n",
              "      <td>12.020000</td>\n",
              "      <td>50.410000</td>\n",
              "      <td>185.200000</td>\n",
              "      <td>0.071170</td>\n",
              "      <td>0.027290</td>\n",
              "      <td>0.000000</td>\n",
              "      <td>0.000000</td>\n",
              "      <td>0.156500</td>\n",
              "      <td>0.055040</td>\n",
              "    </tr>\n",
              "    <tr>\n",
              "      <th>25%</th>\n",
              "      <td>11.700000</td>\n",
              "      <td>16.170000</td>\n",
              "      <td>75.170000</td>\n",
              "      <td>420.300000</td>\n",
              "      <td>0.086370</td>\n",
              "      <td>0.064920</td>\n",
              "      <td>0.029560</td>\n",
              "      <td>0.020310</td>\n",
              "      <td>0.161900</td>\n",
              "      <td>0.057700</td>\n",
              "      <td>0.232400</td>\n",
              "      <td>0.833900</td>\n",
              "      <td>1.606000</td>\n",
              "      <td>17.850000</td>\n",
              "      <td>0.005169</td>\n",
              "      <td>0.013080</td>\n",
              "      <td>0.015090</td>\n",
              "      <td>0.007638</td>\n",
              "      <td>0.015160</td>\n",
              "      <td>0.002248</td>\n",
              "      <td>13.010000</td>\n",
              "      <td>21.080000</td>\n",
              "      <td>84.110000</td>\n",
              "      <td>515.300000</td>\n",
              "      <td>0.116600</td>\n",
              "      <td>0.147200</td>\n",
              "      <td>0.114500</td>\n",
              "      <td>0.064930</td>\n",
              "      <td>0.250400</td>\n",
              "      <td>0.071460</td>\n",
              "    </tr>\n",
              "    <tr>\n",
              "      <th>50%</th>\n",
              "      <td>13.370000</td>\n",
              "      <td>18.840000</td>\n",
              "      <td>86.240000</td>\n",
              "      <td>551.100000</td>\n",
              "      <td>0.095870</td>\n",
              "      <td>0.092630</td>\n",
              "      <td>0.061540</td>\n",
              "      <td>0.033500</td>\n",
              "      <td>0.179200</td>\n",
              "      <td>0.061540</td>\n",
              "      <td>0.324200</td>\n",
              "      <td>1.108000</td>\n",
              "      <td>2.287000</td>\n",
              "      <td>24.530000</td>\n",
              "      <td>0.006380</td>\n",
              "      <td>0.020450</td>\n",
              "      <td>0.025890</td>\n",
              "      <td>0.010930</td>\n",
              "      <td>0.018730</td>\n",
              "      <td>0.003187</td>\n",
              "      <td>14.970000</td>\n",
              "      <td>25.410000</td>\n",
              "      <td>97.660000</td>\n",
              "      <td>686.500000</td>\n",
              "      <td>0.131300</td>\n",
              "      <td>0.211900</td>\n",
              "      <td>0.226700</td>\n",
              "      <td>0.099930</td>\n",
              "      <td>0.282200</td>\n",
              "      <td>0.080040</td>\n",
              "    </tr>\n",
              "    <tr>\n",
              "      <th>75%</th>\n",
              "      <td>15.780000</td>\n",
              "      <td>21.800000</td>\n",
              "      <td>104.100000</td>\n",
              "      <td>782.700000</td>\n",
              "      <td>0.105300</td>\n",
              "      <td>0.130400</td>\n",
              "      <td>0.130700</td>\n",
              "      <td>0.074000</td>\n",
              "      <td>0.195700</td>\n",
              "      <td>0.066120</td>\n",
              "      <td>0.478900</td>\n",
              "      <td>1.474000</td>\n",
              "      <td>3.357000</td>\n",
              "      <td>45.190000</td>\n",
              "      <td>0.008146</td>\n",
              "      <td>0.032450</td>\n",
              "      <td>0.042050</td>\n",
              "      <td>0.014710</td>\n",
              "      <td>0.023480</td>\n",
              "      <td>0.004558</td>\n",
              "      <td>18.790000</td>\n",
              "      <td>29.720000</td>\n",
              "      <td>125.400000</td>\n",
              "      <td>1084.000000</td>\n",
              "      <td>0.146000</td>\n",
              "      <td>0.339100</td>\n",
              "      <td>0.382900</td>\n",
              "      <td>0.161400</td>\n",
              "      <td>0.317900</td>\n",
              "      <td>0.092080</td>\n",
              "    </tr>\n",
              "    <tr>\n",
              "      <th>max</th>\n",
              "      <td>28.110000</td>\n",
              "      <td>39.280000</td>\n",
              "      <td>188.500000</td>\n",
              "      <td>2501.000000</td>\n",
              "      <td>0.163400</td>\n",
              "      <td>0.345400</td>\n",
              "      <td>0.426800</td>\n",
              "      <td>0.201200</td>\n",
              "      <td>0.304000</td>\n",
              "      <td>0.097440</td>\n",
              "      <td>2.873000</td>\n",
              "      <td>4.885000</td>\n",
              "      <td>21.980000</td>\n",
              "      <td>542.200000</td>\n",
              "      <td>0.031130</td>\n",
              "      <td>0.135400</td>\n",
              "      <td>0.396000</td>\n",
              "      <td>0.052790</td>\n",
              "      <td>0.078950</td>\n",
              "      <td>0.029840</td>\n",
              "      <td>36.040000</td>\n",
              "      <td>49.540000</td>\n",
              "      <td>251.200000</td>\n",
              "      <td>4254.000000</td>\n",
              "      <td>0.222600</td>\n",
              "      <td>1.058000</td>\n",
              "      <td>1.252000</td>\n",
              "      <td>0.291000</td>\n",
              "      <td>0.663800</td>\n",
              "      <td>0.207500</td>\n",
              "    </tr>\n",
              "  </tbody>\n",
              "</table>\n",
              "</div>"
            ],
            "text/plain": [
              "       radius_mean  texture_mean  perimeter_mean    area_mean  \\\n",
              "count   569.000000    569.000000      569.000000   569.000000   \n",
              "mean     14.127292     19.289649       91.969033   654.889104   \n",
              "std       3.524049      4.301036       24.298981   351.914129   \n",
              "min       6.981000      9.710000       43.790000   143.500000   \n",
              "25%      11.700000     16.170000       75.170000   420.300000   \n",
              "50%      13.370000     18.840000       86.240000   551.100000   \n",
              "75%      15.780000     21.800000      104.100000   782.700000   \n",
              "max      28.110000     39.280000      188.500000  2501.000000   \n",
              "\n",
              "       smoothness_mean  compactness_mean  concavity_mean  concave points_mean  \\\n",
              "count       569.000000        569.000000      569.000000           569.000000   \n",
              "mean          0.096360          0.104341        0.088799             0.048919   \n",
              "std           0.014064          0.052813        0.079720             0.038803   \n",
              "min           0.052630          0.019380        0.000000             0.000000   \n",
              "25%           0.086370          0.064920        0.029560             0.020310   \n",
              "50%           0.095870          0.092630        0.061540             0.033500   \n",
              "75%           0.105300          0.130400        0.130700             0.074000   \n",
              "max           0.163400          0.345400        0.426800             0.201200   \n",
              "\n",
              "       symmetry_mean  fractal_dimension_mean   radius_se  texture_se  \\\n",
              "count     569.000000              569.000000  569.000000  569.000000   \n",
              "mean        0.181162                0.062798    0.405172    1.216853   \n",
              "std         0.027414                0.007060    0.277313    0.551648   \n",
              "min         0.106000                0.049960    0.111500    0.360200   \n",
              "25%         0.161900                0.057700    0.232400    0.833900   \n",
              "50%         0.179200                0.061540    0.324200    1.108000   \n",
              "75%         0.195700                0.066120    0.478900    1.474000   \n",
              "max         0.304000                0.097440    2.873000    4.885000   \n",
              "\n",
              "       perimeter_se     area_se  smoothness_se  compactness_se  concavity_se  \\\n",
              "count    569.000000  569.000000     569.000000      569.000000    569.000000   \n",
              "mean       2.866059   40.337079       0.007041        0.025478      0.031894   \n",
              "std        2.021855   45.491006       0.003003        0.017908      0.030186   \n",
              "min        0.757000    6.802000       0.001713        0.002252      0.000000   \n",
              "25%        1.606000   17.850000       0.005169        0.013080      0.015090   \n",
              "50%        2.287000   24.530000       0.006380        0.020450      0.025890   \n",
              "75%        3.357000   45.190000       0.008146        0.032450      0.042050   \n",
              "max       21.980000  542.200000       0.031130        0.135400      0.396000   \n",
              "\n",
              "       concave points_se  symmetry_se  fractal_dimension_se  radius_worst  \\\n",
              "count         569.000000   569.000000            569.000000    569.000000   \n",
              "mean            0.011796     0.020542              0.003795     16.269190   \n",
              "std             0.006170     0.008266              0.002646      4.833242   \n",
              "min             0.000000     0.007882              0.000895      7.930000   \n",
              "25%             0.007638     0.015160              0.002248     13.010000   \n",
              "50%             0.010930     0.018730              0.003187     14.970000   \n",
              "75%             0.014710     0.023480              0.004558     18.790000   \n",
              "max             0.052790     0.078950              0.029840     36.040000   \n",
              "\n",
              "       texture_worst  perimeter_worst   area_worst  smoothness_worst  \\\n",
              "count     569.000000       569.000000   569.000000        569.000000   \n",
              "mean       25.677223       107.261213   880.583128          0.132369   \n",
              "std         6.146258        33.602542   569.356993          0.022832   \n",
              "min        12.020000        50.410000   185.200000          0.071170   \n",
              "25%        21.080000        84.110000   515.300000          0.116600   \n",
              "50%        25.410000        97.660000   686.500000          0.131300   \n",
              "75%        29.720000       125.400000  1084.000000          0.146000   \n",
              "max        49.540000       251.200000  4254.000000          0.222600   \n",
              "\n",
              "       compactness_worst  concavity_worst  concave points_worst  \\\n",
              "count         569.000000       569.000000            569.000000   \n",
              "mean            0.254265         0.272188              0.114606   \n",
              "std             0.157336         0.208624              0.065732   \n",
              "min             0.027290         0.000000              0.000000   \n",
              "25%             0.147200         0.114500              0.064930   \n",
              "50%             0.211900         0.226700              0.099930   \n",
              "75%             0.339100         0.382900              0.161400   \n",
              "max             1.058000         1.252000              0.291000   \n",
              "\n",
              "       symmetry_worst  fractal_dimension_worst  \n",
              "count      569.000000               569.000000  \n",
              "mean         0.290076                 0.083946  \n",
              "std          0.061867                 0.018061  \n",
              "min          0.156500                 0.055040  \n",
              "25%          0.250400                 0.071460  \n",
              "50%          0.282200                 0.080040  \n",
              "75%          0.317900                 0.092080  \n",
              "max          0.663800                 0.207500  "
            ]
          },
          "metadata": {
            "tags": []
          },
          "execution_count": 27
        }
      ]
    },
    {
      "cell_type": "code",
      "metadata": {
        "colab": {
          "base_uri": "https://localhost:8080/",
          "height": 948
        },
        "id": "SDNkLVQcvrQH",
        "outputId": "20483986-2606-426c-a632-1c891c8a2136"
      },
      "source": [
        "#Análisis de desviaciones\n",
        "desviaciones = pd.DataFrame(descripcion.iloc[2])\n",
        "desviaciones.reset_index(inplace=True)\n",
        "desviaciones.columns = [\"variable\",\"Desviacion\"]\n",
        "desviaciones.sort_values(by=['Desviacion'],ascending=False)"
      ],
      "execution_count": null,
      "outputs": [
        {
          "output_type": "execute_result",
          "data": {
            "text/html": [
              "<div>\n",
              "<style scoped>\n",
              "    .dataframe tbody tr th:only-of-type {\n",
              "        vertical-align: middle;\n",
              "    }\n",
              "\n",
              "    .dataframe tbody tr th {\n",
              "        vertical-align: top;\n",
              "    }\n",
              "\n",
              "    .dataframe thead th {\n",
              "        text-align: right;\n",
              "    }\n",
              "</style>\n",
              "<table border=\"1\" class=\"dataframe\">\n",
              "  <thead>\n",
              "    <tr style=\"text-align: right;\">\n",
              "      <th></th>\n",
              "      <th>variable</th>\n",
              "      <th>Desviacion</th>\n",
              "    </tr>\n",
              "  </thead>\n",
              "  <tbody>\n",
              "    <tr>\n",
              "      <th>23</th>\n",
              "      <td>area_worst</td>\n",
              "      <td>569.356993</td>\n",
              "    </tr>\n",
              "    <tr>\n",
              "      <th>3</th>\n",
              "      <td>area_mean</td>\n",
              "      <td>351.914129</td>\n",
              "    </tr>\n",
              "    <tr>\n",
              "      <th>13</th>\n",
              "      <td>area_se</td>\n",
              "      <td>45.491006</td>\n",
              "    </tr>\n",
              "    <tr>\n",
              "      <th>22</th>\n",
              "      <td>perimeter_worst</td>\n",
              "      <td>33.602542</td>\n",
              "    </tr>\n",
              "    <tr>\n",
              "      <th>2</th>\n",
              "      <td>perimeter_mean</td>\n",
              "      <td>24.298981</td>\n",
              "    </tr>\n",
              "    <tr>\n",
              "      <th>21</th>\n",
              "      <td>texture_worst</td>\n",
              "      <td>6.146258</td>\n",
              "    </tr>\n",
              "    <tr>\n",
              "      <th>20</th>\n",
              "      <td>radius_worst</td>\n",
              "      <td>4.833242</td>\n",
              "    </tr>\n",
              "    <tr>\n",
              "      <th>1</th>\n",
              "      <td>texture_mean</td>\n",
              "      <td>4.301036</td>\n",
              "    </tr>\n",
              "    <tr>\n",
              "      <th>0</th>\n",
              "      <td>radius_mean</td>\n",
              "      <td>3.524049</td>\n",
              "    </tr>\n",
              "    <tr>\n",
              "      <th>12</th>\n",
              "      <td>perimeter_se</td>\n",
              "      <td>2.021855</td>\n",
              "    </tr>\n",
              "    <tr>\n",
              "      <th>11</th>\n",
              "      <td>texture_se</td>\n",
              "      <td>0.551648</td>\n",
              "    </tr>\n",
              "    <tr>\n",
              "      <th>10</th>\n",
              "      <td>radius_se</td>\n",
              "      <td>0.277313</td>\n",
              "    </tr>\n",
              "    <tr>\n",
              "      <th>26</th>\n",
              "      <td>concavity_worst</td>\n",
              "      <td>0.208624</td>\n",
              "    </tr>\n",
              "    <tr>\n",
              "      <th>25</th>\n",
              "      <td>compactness_worst</td>\n",
              "      <td>0.157336</td>\n",
              "    </tr>\n",
              "    <tr>\n",
              "      <th>6</th>\n",
              "      <td>concavity_mean</td>\n",
              "      <td>0.079720</td>\n",
              "    </tr>\n",
              "    <tr>\n",
              "      <th>27</th>\n",
              "      <td>concave points_worst</td>\n",
              "      <td>0.065732</td>\n",
              "    </tr>\n",
              "    <tr>\n",
              "      <th>28</th>\n",
              "      <td>symmetry_worst</td>\n",
              "      <td>0.061867</td>\n",
              "    </tr>\n",
              "    <tr>\n",
              "      <th>5</th>\n",
              "      <td>compactness_mean</td>\n",
              "      <td>0.052813</td>\n",
              "    </tr>\n",
              "    <tr>\n",
              "      <th>7</th>\n",
              "      <td>concave points_mean</td>\n",
              "      <td>0.038803</td>\n",
              "    </tr>\n",
              "    <tr>\n",
              "      <th>16</th>\n",
              "      <td>concavity_se</td>\n",
              "      <td>0.030186</td>\n",
              "    </tr>\n",
              "    <tr>\n",
              "      <th>8</th>\n",
              "      <td>symmetry_mean</td>\n",
              "      <td>0.027414</td>\n",
              "    </tr>\n",
              "    <tr>\n",
              "      <th>24</th>\n",
              "      <td>smoothness_worst</td>\n",
              "      <td>0.022832</td>\n",
              "    </tr>\n",
              "    <tr>\n",
              "      <th>29</th>\n",
              "      <td>fractal_dimension_worst</td>\n",
              "      <td>0.018061</td>\n",
              "    </tr>\n",
              "    <tr>\n",
              "      <th>15</th>\n",
              "      <td>compactness_se</td>\n",
              "      <td>0.017908</td>\n",
              "    </tr>\n",
              "    <tr>\n",
              "      <th>4</th>\n",
              "      <td>smoothness_mean</td>\n",
              "      <td>0.014064</td>\n",
              "    </tr>\n",
              "    <tr>\n",
              "      <th>18</th>\n",
              "      <td>symmetry_se</td>\n",
              "      <td>0.008266</td>\n",
              "    </tr>\n",
              "    <tr>\n",
              "      <th>9</th>\n",
              "      <td>fractal_dimension_mean</td>\n",
              "      <td>0.007060</td>\n",
              "    </tr>\n",
              "    <tr>\n",
              "      <th>17</th>\n",
              "      <td>concave points_se</td>\n",
              "      <td>0.006170</td>\n",
              "    </tr>\n",
              "    <tr>\n",
              "      <th>14</th>\n",
              "      <td>smoothness_se</td>\n",
              "      <td>0.003003</td>\n",
              "    </tr>\n",
              "    <tr>\n",
              "      <th>19</th>\n",
              "      <td>fractal_dimension_se</td>\n",
              "      <td>0.002646</td>\n",
              "    </tr>\n",
              "  </tbody>\n",
              "</table>\n",
              "</div>"
            ],
            "text/plain": [
              "                   variable  Desviacion\n",
              "23               area_worst  569.356993\n",
              "3                 area_mean  351.914129\n",
              "13                  area_se   45.491006\n",
              "22          perimeter_worst   33.602542\n",
              "2            perimeter_mean   24.298981\n",
              "21            texture_worst    6.146258\n",
              "20             radius_worst    4.833242\n",
              "1              texture_mean    4.301036\n",
              "0               radius_mean    3.524049\n",
              "12             perimeter_se    2.021855\n",
              "11               texture_se    0.551648\n",
              "10                radius_se    0.277313\n",
              "26          concavity_worst    0.208624\n",
              "25        compactness_worst    0.157336\n",
              "6            concavity_mean    0.079720\n",
              "27     concave points_worst    0.065732\n",
              "28           symmetry_worst    0.061867\n",
              "5          compactness_mean    0.052813\n",
              "7       concave points_mean    0.038803\n",
              "16             concavity_se    0.030186\n",
              "8             symmetry_mean    0.027414\n",
              "24         smoothness_worst    0.022832\n",
              "29  fractal_dimension_worst    0.018061\n",
              "15           compactness_se    0.017908\n",
              "4           smoothness_mean    0.014064\n",
              "18              symmetry_se    0.008266\n",
              "9    fractal_dimension_mean    0.007060\n",
              "17        concave points_se    0.006170\n",
              "14            smoothness_se    0.003003\n",
              "19     fractal_dimension_se    0.002646"
            ]
          },
          "metadata": {
            "tags": []
          },
          "execution_count": 28
        }
      ]
    },
    {
      "cell_type": "code",
      "metadata": {
        "id": "ZiSfdDVIvrQJ"
      },
      "source": [
        "data_mediad = data_cancer[['diagnosis','area_mean', 'radius_mean', 'texture_mean', 'perimeter_mean',\n",
        "       'smoothness_mean', 'compactness_mean', 'concavity_mean',\n",
        "       'concave points_mean', 'symmetry_mean', 'fractal_dimension_mean']]"
      ],
      "execution_count": null,
      "outputs": []
    },
    {
      "cell_type": "code",
      "metadata": {
        "id": "_cqGluosvrQJ"
      },
      "source": [
        "data_desv = data_cancer[['diagnosis','area_se', 'radius_se', 'texture_se', 'perimeter_se', 'smoothness_se',\n",
        "       'compactness_se', 'concavity_se', 'concave points_se', 'symmetry_se',\n",
        "       'fractal_dimension_se']]"
      ],
      "execution_count": null,
      "outputs": []
    },
    {
      "cell_type": "code",
      "metadata": {
        "id": "8ZMC-_CUvrQJ"
      },
      "source": [
        "data_maximo = data_cancer[['diagnosis','area_worst','radius_worst', 'texture_worst',\n",
        "       'perimeter_worst', 'smoothness_worst', 'compactness_worst',\n",
        "       'concavity_worst', 'concave points_worst', 'symmetry_worst',\n",
        "       'fractal_dimension_worst']]"
      ],
      "execution_count": null,
      "outputs": []
    },
    {
      "cell_type": "code",
      "metadata": {
        "id": "RO6CNkO0vrQJ"
      },
      "source": [
        "sns.pairplot(data_mediad, hue = \"diagnosis\")"
      ],
      "execution_count": null,
      "outputs": []
    },
    {
      "cell_type": "code",
      "metadata": {
        "id": "dVpHezUzvrQJ"
      },
      "source": [
        "sns.pairplot(data_desv, hue = \"diagnosis\")"
      ],
      "execution_count": null,
      "outputs": []
    },
    {
      "cell_type": "code",
      "metadata": {
        "id": "7s3fiCE4vrQJ"
      },
      "source": [
        "sns.pairplot(data_maximo, hue = \"diagnosis\")"
      ],
      "execution_count": null,
      "outputs": []
    },
    {
      "cell_type": "code",
      "metadata": {
        "id": "Scl_R0lXvrQJ"
      },
      "source": [
        "plt.figure(figsize = (6.4*3,4.8*3))\n",
        "plt.subplot(3,3,1)## numero de filas 1, numero de columnas 3 graficos 2 de 3\n",
        "sns.boxplot(data = data_cancer, x = \"diagnosis\", y = \"area_mean\")\n",
        "plt.xlabel(\"Diagnostico Tumor\", fontweight = \"black\", fontsize = 12)\n",
        "plt.ylabel(\"Promedio de area\", fontweight = \"black\", fontsize = 12)\n",
        "plt.title(\"Distribucion del area promedio\", fontsize=18, color=\"black\")\n",
        "\n",
        "plt.subplot(3,3,2)## numero de filas 1, numero de columnas 3 graficos1 de 3\n",
        "sns.boxplot(data = data_cancer, x = \"diagnosis\", y = \"texture_mean\")\n",
        "plt.xlabel(\"Diagnostico Tumor\", fontweight = \"black\", fontsize = 12)\n",
        "plt.ylabel(\"Textura media\", fontweight = \"black\", fontsize = 12)\n",
        "plt.title(\"Distribucion Textura media\", fontsize=18, color=\"black\")\n",
        "\n",
        "plt.subplot(3,3,3) ## numero de filas 1, numero de columnas 3 graficos 3 de 3\n",
        "sns.boxplot(data = data_cancer, x = \"diagnosis\", y = \"perimeter_mean\")\n",
        "plt.xlabel(\"Diagnostico Tumor\", fontweight = \"black\", fontsize = 12)\n",
        "plt.ylabel(\"Perimetro medio\", fontweight = \"black\", fontsize = 12)\n",
        "plt.title(\"Distribucion del Perimetro medio\", fontsize=18, color=\"black\")\n",
        "\n",
        "\n",
        "plt.subplot(3,3,4) ## numero de filas 1, numero de columnas 3 graficos 3 de 3\n",
        "sns.boxplot(data = data_cancer, x = \"diagnosis\", y = \"concave points_mean\")\n",
        "plt.xlabel(\"Diagnostico Tumor\", fontweight = \"black\", fontsize = 12)\n",
        "plt.ylabel(\"Concavidad media\", fontweight = \"black\", fontsize = 12)\n",
        "plt.title(\"Distribucion de la Concavidad\", fontsize=18, color=\"black\")\n",
        "\n",
        "\n",
        "plt.subplot(3,3,5) ## numero de filas 1, numero de columnas 3 graficos 3 de 3\n",
        "sns.boxplot(data = data_cancer, x = \"diagnosis\", y = \"concave points_worst\")\n",
        "plt.xlabel(\"Diagnostico Tumor\", fontweight = \"black\", fontsize = 12)\n",
        "plt.ylabel(\"Concavidad maxima\", fontweight = \"black\", fontsize = 12)\n",
        "plt.title(\"Distribucion de la Concavidad maxima\", fontsize=18, color=\"black\")\n",
        "\n",
        "\n",
        "plt.subplot(3,3,6) ## numero de filas 1, numero de columnas 3 graficos 3 de 3\n",
        "sns.boxplot(data = data_cancer, x = \"diagnosis\", y = \"area_se\")\n",
        "plt.xlabel(\"Diagnostico Tumor\", fontweight = \"black\", fontsize = 12)\n",
        "plt.ylabel(\"Desviacion estandar del area\", fontweight = \"black\", fontsize = 12)\n",
        "plt.title(\"Distribucion de Desviacion estandar del area\", fontsize=18, color=\"black\")\n",
        "\n",
        "\n",
        "plt.subplot(3,3,7) ## numero de filas 1, numero de columnas 3 graficos 3 de 3\n",
        "sns.boxplot(data = data_cancer, x = \"diagnosis\", y = \"perimeter_worst\")\n",
        "plt.xlabel(\"Diagnostico Tumor\", fontweight = \"black\", fontsize = 12)\n",
        "plt.ylabel(\"Perimetro  maximo\", fontweight = \"black\", fontsize = 12)\n",
        "plt.title(\"Distribucion perimetro maximo\", fontsize=18, color=\"black\")\n",
        "\n",
        "plt.tight_layout() ## es una funcion de diseno del grafico\n",
        "# plt.savefig('DS_Bitacora_06_Ejemplos_puntos_y_lineas.png', dpi = 300)\n",
        "plt.show()"
      ],
      "execution_count": null,
      "outputs": []
    },
    {
      "cell_type": "code",
      "metadata": {
        "id": "2-TNvVuwvrQJ"
      },
      "source": [
        "#Base para modelos\n",
        "datamodelo =data_cancer[[\"diagnosis\",'area_mean','perimeter_mean',\"concave points_mean\",\n",
        "                         'concave points_worst',\"area_se\",\"perimeter_worst\"]]"
      ],
      "execution_count": null,
      "outputs": []
    },
    {
      "cell_type": "code",
      "metadata": {
        "id": "-dEbqb58TMra"
      },
      "source": [
        "datamodelo.groupby('diagnosis')['area_mean'].describe()"
      ],
      "execution_count": null,
      "outputs": []
    },
    {
      "cell_type": "code",
      "metadata": {
        "id": "yXOGB9nyTPhU"
      },
      "source": [
        "datamodelo.groupby('diagnosis')['perimeter_mean'].describe()"
      ],
      "execution_count": null,
      "outputs": []
    },
    {
      "cell_type": "code",
      "metadata": {
        "id": "SuM7ByS9TXMd"
      },
      "source": [
        "datamodelo.groupby('diagnosis')['concave points_mean'].describe()"
      ],
      "execution_count": null,
      "outputs": []
    },
    {
      "cell_type": "code",
      "metadata": {
        "id": "PvBQWl08TdWe"
      },
      "source": [
        "datamodelo.groupby('diagnosis')['concave points_worst'].describe()"
      ],
      "execution_count": null,
      "outputs": []
    },
    {
      "cell_type": "code",
      "metadata": {
        "id": "sxY5MGZ6Th1T"
      },
      "source": [
        "datamodelo.groupby('diagnosis')['area_se'].describe()"
      ],
      "execution_count": null,
      "outputs": []
    },
    {
      "cell_type": "code",
      "metadata": {
        "id": "QAOjAYFWTmv6"
      },
      "source": [
        "datamodelo.groupby('diagnosis')['perimeter_worst'].describe()"
      ],
      "execution_count": null,
      "outputs": []
    },
    {
      "cell_type": "code",
      "metadata": {
        "id": "tyiRQu8cvrQJ"
      },
      "source": [
        "#Gráfico de correlacción\n",
        "corr = datamodelo.corr()\n",
        "\n",
        "fig, ax = plt.subplots(nrows=1, ncols=1, figsize=(7, 7))\n",
        "\n",
        "sns.heatmap(\n",
        "    corr,\n",
        "    annot     = True,\n",
        "    cbar      = False,\n",
        "    annot_kws = {\"size\": 10},\n",
        "    vmin      = -2,\n",
        "    vmax      = 1,\n",
        "    center    = 0,\n",
        "    cmap      = sns.diverging_palette(20, 220, n=200),\n",
        "    square    = False,\n",
        "    ax        = ax\n",
        ")\n",
        "\n",
        "ax.set_xticklabels(\n",
        "    ax.get_xticklabels(),\n",
        "    rotation = 40,\n",
        "    horizontalalignment = 'right',\n",
        ")\n",
        "\n",
        "ax.tick_params(labelsize = 10)"
      ],
      "execution_count": null,
      "outputs": []
    },
    {
      "cell_type": "code",
      "metadata": {
        "id": "ersjSAr8vrQJ"
      },
      "source": [
        "# Tabla de correlacciones\n",
        "corr"
      ],
      "execution_count": null,
      "outputs": []
    },
    {
      "cell_type": "markdown",
      "metadata": {
        "id": "wC8aM9ScT5fk"
      },
      "source": [
        "**Separación de la base de datos en las variables regresoras y la \n",
        "\n",
        "---\n",
        "\n",
        "variable respuesta, además del escalamiento o normalización de las X´s**\n"
      ]
    },
    {
      "cell_type": "code",
      "metadata": {
        "id": "vpwwAmwnWTxr"
      },
      "source": [
        "X = datamodelo_train.drop(columns =\"diagnosis\",axis = 1)\n",
        "y = datamodelo_train.diagnosis"
      ],
      "execution_count": null,
      "outputs": []
    },
    {
      "cell_type": "code",
      "metadata": {
        "id": "TKMJGHDWWf0w"
      },
      "source": [
        "X_train, X_test, y_train, y_test = train_test_split(X, y, random_state=0)"
      ],
      "execution_count": null,
      "outputs": []
    },
    {
      "cell_type": "code",
      "metadata": {
        "id": "DiKhgOkUWh22"
      },
      "source": [
        "scaler = MinMaxScaler()\n",
        "X_train = scaler.fit_transform(X_train)\n",
        "X_test = scaler.transform(X_test)"
      ],
      "execution_count": null,
      "outputs": []
    },
    {
      "cell_type": "markdown",
      "metadata": {
        "id": "C7qFRfq_beDO"
      },
      "source": [
        "# **CRP**"
      ]
    },
    {
      "cell_type": "code",
      "metadata": {
        "id": "WyKVeF9aaMPD"
      },
      "source": [
        "#Lectura del pickle\n",
        "!pip install pickle"
      ],
      "execution_count": null,
      "outputs": []
    },
    {
      "cell_type": "code",
      "metadata": {
        "id": "rQZvbotsaxEi"
      },
      "source": [
        "import pickle as pk"
      ],
      "execution_count": null,
      "outputs": []
    },
    {
      "cell_type": "code",
      "metadata": {
        "id": "hwMu2Pj3a3N1"
      },
      "source": [
        "with open('/content/drive/MyDrive/CRP/TRABAJO FINAL/dataimagenes.pickle', 'rb') as file:\n",
        "  data=pickle.load(file)"
      ],
      "execution_count": null,
      "outputs": []
    },
    {
      "cell_type": "code",
      "metadata": {
        "id": "6WjmgdiTcrXp"
      },
      "source": [
        "print(data)"
      ],
      "execution_count": null,
      "outputs": []
    },
    {
      "cell_type": "code",
      "metadata": {
        "id": "VlKRvpBvcwHI"
      },
      "source": [
        "x_train = data[0]\n",
        "y_train= data[1]\n",
        "x_test= data[2]\n",
        "y_test= data[3]"
      ],
      "execution_count": null,
      "outputs": []
    },
    {
      "cell_type": "code",
      "metadata": {
        "id": "op9ozUU3eqZT"
      },
      "source": [
        "x_train=np.array(x_train)\n",
        "y_train=np.array(y_train)\n",
        "x_test=np.array(x_test)\n",
        "y_test=np.array(y_test)"
      ],
      "execution_count": null,
      "outputs": []
    },
    {
      "cell_type": "code",
      "metadata": {
        "id": "eCeqDpLKhPei"
      },
      "source": [
        "y_train"
      ],
      "execution_count": null,
      "outputs": []
    },
    {
      "cell_type": "code",
      "metadata": {
        "id": "czxGabbyfHe-"
      },
      "source": [
        "#y_test[np.where(y_test=='NORMAL')]=0\n",
        "#y_test[np.where(y_test=='PNEUMONIA')]=1\n",
        "#y_test = y_test.astype(np.int)\n",
        "#y_test"
      ],
      "execution_count": null,
      "outputs": []
    },
    {
      "cell_type": "code",
      "metadata": {
        "id": "KcY4gxRpdrQB"
      },
      "source": [
        "scaler = MinMaxScaler()\n",
        "X_train = scaler.fit_transform(x_train)\n",
        "X_test = scaler.fit_transform(x_test)"
      ],
      "execution_count": null,
      "outputs": []
    },
    {
      "cell_type": "markdown",
      "metadata": {
        "id": "RYM-9SIWW8Zy"
      },
      "source": [
        "#REGRESIÓN LOGÍSTICA"
      ]
    },
    {
      "cell_type": "code",
      "metadata": {
        "id": "8hKSCn7tXaIx"
      },
      "source": [
        "seed = 7\n",
        "scoring = 'accuracy'"
      ],
      "execution_count": null,
      "outputs": []
    },
    {
      "cell_type": "code",
      "metadata": {
        "colab": {
          "base_uri": "https://localhost:8080/"
        },
        "id": "99UpA-tkXBEF",
        "outputId": "b71eb321-889a-4fe7-b041-b962033a2e01"
      },
      "source": [
        "#Validación Cruzada\n",
        "models = []\n",
        "models.append(('LR', LogisticRegression()))\n",
        "models.append(('RFC', RandomForestClassifier()))\n",
        "\n",
        "# Evaluación de los modelos\n",
        "results = []\n",
        "names = []\n",
        "for name, model in models:\n",
        "    kfold = model_selection.KFold(n_splits=5, random_state=seed)\n",
        "    cv_results = model_selection.cross_val_score(model, X_train, y_train, cv=kfold, scoring=scoring)\n",
        "    results.append(cv_results)\n",
        "    names.append(name)\n",
        "    msg = \"%s: %f (%f)\" % (name, cv_results.mean(), cv_results.std())\n",
        "    print(msg)\n"
      ],
      "execution_count": null,
      "outputs": [
        {
          "output_type": "stream",
          "text": [
            "/usr/local/lib/python3.6/dist-packages/sklearn/model_selection/_split.py:296: FutureWarning: Setting a random_state has no effect since shuffle is False. This will raise an error in 0.24. You should leave random_state to its default (None), or set shuffle=True.\n",
            "  FutureWarning\n",
            "/usr/local/lib/python3.6/dist-packages/sklearn/linear_model/_logistic.py:940: ConvergenceWarning: lbfgs failed to converge (status=1):\n",
            "STOP: TOTAL NO. of ITERATIONS REACHED LIMIT.\n",
            "\n",
            "Increase the number of iterations (max_iter) or scale the data as shown in:\n",
            "    https://scikit-learn.org/stable/modules/preprocessing.html\n",
            "Please also refer to the documentation for alternative solver options:\n",
            "    https://scikit-learn.org/stable/modules/linear_model.html#logistic-regression\n",
            "  extra_warning_msg=_LOGISTIC_SOLVER_CONVERGENCE_MSG)\n",
            "/usr/local/lib/python3.6/dist-packages/sklearn/linear_model/_logistic.py:940: ConvergenceWarning: lbfgs failed to converge (status=1):\n",
            "STOP: TOTAL NO. of ITERATIONS REACHED LIMIT.\n",
            "\n",
            "Increase the number of iterations (max_iter) or scale the data as shown in:\n",
            "    https://scikit-learn.org/stable/modules/preprocessing.html\n",
            "Please also refer to the documentation for alternative solver options:\n",
            "    https://scikit-learn.org/stable/modules/linear_model.html#logistic-regression\n",
            "  extra_warning_msg=_LOGISTIC_SOLVER_CONVERGENCE_MSG)\n",
            "/usr/local/lib/python3.6/dist-packages/sklearn/linear_model/_logistic.py:940: ConvergenceWarning: lbfgs failed to converge (status=1):\n",
            "STOP: TOTAL NO. of ITERATIONS REACHED LIMIT.\n",
            "\n",
            "Increase the number of iterations (max_iter) or scale the data as shown in:\n",
            "    https://scikit-learn.org/stable/modules/preprocessing.html\n",
            "Please also refer to the documentation for alternative solver options:\n",
            "    https://scikit-learn.org/stable/modules/linear_model.html#logistic-regression\n",
            "  extra_warning_msg=_LOGISTIC_SOLVER_CONVERGENCE_MSG)\n",
            "/usr/local/lib/python3.6/dist-packages/sklearn/linear_model/_logistic.py:940: ConvergenceWarning: lbfgs failed to converge (status=1):\n",
            "STOP: TOTAL NO. of ITERATIONS REACHED LIMIT.\n",
            "\n",
            "Increase the number of iterations (max_iter) or scale the data as shown in:\n",
            "    https://scikit-learn.org/stable/modules/preprocessing.html\n",
            "Please also refer to the documentation for alternative solver options:\n",
            "    https://scikit-learn.org/stable/modules/linear_model.html#logistic-regression\n",
            "  extra_warning_msg=_LOGISTIC_SOLVER_CONVERGENCE_MSG)\n",
            "/usr/local/lib/python3.6/dist-packages/sklearn/linear_model/_logistic.py:940: ConvergenceWarning: lbfgs failed to converge (status=1):\n",
            "STOP: TOTAL NO. of ITERATIONS REACHED LIMIT.\n",
            "\n",
            "Increase the number of iterations (max_iter) or scale the data as shown in:\n",
            "    https://scikit-learn.org/stable/modules/preprocessing.html\n",
            "Please also refer to the documentation for alternative solver options:\n",
            "    https://scikit-learn.org/stable/modules/linear_model.html#logistic-regression\n",
            "  extra_warning_msg=_LOGISTIC_SOLVER_CONVERGENCE_MSG)\n",
            "/usr/local/lib/python3.6/dist-packages/sklearn/model_selection/_split.py:296: FutureWarning: Setting a random_state has no effect since shuffle is False. This will raise an error in 0.24. You should leave random_state to its default (None), or set shuffle=True.\n",
            "  FutureWarning\n"
          ],
          "name": "stderr"
        },
        {
          "output_type": "stream",
          "text": [
            "LR: 0.928351 (0.074492)\n",
            "RFC: 0.867414 (0.187577)\n"
          ],
          "name": "stdout"
        }
      ]
    },
    {
      "cell_type": "code",
      "metadata": {
        "colab": {
          "base_uri": "https://localhost:8080/"
        },
        "id": "FFfD-IMOoP-m",
        "outputId": "1fadd087-16a8-406e-86a5-5f2cdac019fc"
      },
      "source": [
        "F1_RL= results[0].mean()\n",
        "F1_RF= results[1].mean()\n",
        "print(F1_RL)\n",
        "print(F1_RF)"
      ],
      "execution_count": null,
      "outputs": [
        {
          "output_type": "stream",
          "text": [
            "0.9283510567386377\n",
            "0.8674143186122235\n"
          ],
          "name": "stdout"
        }
      ]
    },
    {
      "cell_type": "code",
      "metadata": {
        "id": "yzmqm2wdXfMt"
      },
      "source": [
        "#Comparación de los modelos\n",
        "fig = plt.figure()\n",
        "fig.suptitle('Algorithm Comparison')\n",
        "ax = fig.add_subplot(111)\n",
        "plt.boxplot(results)\n",
        "ax.set_xticklabels(names)\n",
        "plt.show()"
      ],
      "execution_count": null,
      "outputs": []
    },
    {
      "cell_type": "code",
      "metadata": {
        "colab": {
          "base_uri": "https://localhost:8080/"
        },
        "id": "5XJZJmMTXn_d",
        "outputId": "22feba74-154c-4d5a-b2dc-299dc68ec9d7"
      },
      "source": [
        "#matriz confusión entrenamiento\n",
        "logreg = LogisticRegression()\n",
        "logreg.fit(X_train, y_train)\n",
        "predictionsLR = logreg.predict(X_test)\n",
        "print(f1_score(y_test, predictionsLR, average='macro'))\n",
        "print(confusion_matrix(y_test, predictionsLR))\n",
        "print(classification_report(y_test, predictionsLR))"
      ],
      "execution_count": null,
      "outputs": [
        {
          "output_type": "stream",
          "text": [
            "0.6883622015472084\n",
            "[[ 89 145]\n",
            " [  6 384]]\n",
            "              precision    recall  f1-score   support\n",
            "\n",
            "      NORMAL       0.94      0.38      0.54       234\n",
            "   PNEUMONIA       0.73      0.98      0.84       390\n",
            "\n",
            "    accuracy                           0.76       624\n",
            "   macro avg       0.83      0.68      0.69       624\n",
            "weighted avg       0.81      0.76      0.73       624\n",
            "\n"
          ],
          "name": "stdout"
        },
        {
          "output_type": "stream",
          "text": [
            "/usr/local/lib/python3.6/dist-packages/sklearn/linear_model/_logistic.py:940: ConvergenceWarning: lbfgs failed to converge (status=1):\n",
            "STOP: TOTAL NO. of ITERATIONS REACHED LIMIT.\n",
            "\n",
            "Increase the number of iterations (max_iter) or scale the data as shown in:\n",
            "    https://scikit-learn.org/stable/modules/preprocessing.html\n",
            "Please also refer to the documentation for alternative solver options:\n",
            "    https://scikit-learn.org/stable/modules/linear_model.html#logistic-regression\n",
            "  extra_warning_msg=_LOGISTIC_SOLVER_CONVERGENCE_MSG)\n"
          ],
          "name": "stderr"
        }
      ]
    },
    {
      "cell_type": "code",
      "metadata": {
        "colab": {
          "base_uri": "https://localhost:8080/"
        },
        "id": "_C3eTpvvxXzD",
        "outputId": "7066a51b-e567-4a52-ba18-93b72b22df5f"
      },
      "source": [
        "F1_rl= accuracy_score(y_test, predictionsLR)\n",
        "print(F1_rl)"
      ],
      "execution_count": null,
      "outputs": [
        {
          "output_type": "stream",
          "text": [
            "0.7580128205128205\n"
          ],
          "name": "stdout"
        }
      ]
    },
    {
      "cell_type": "code",
      "metadata": {
        "id": "qFlqGYyT1RJl"
      },
      "source": [
        ""
      ],
      "execution_count": null,
      "outputs": []
    },
    {
      "cell_type": "code",
      "metadata": {
        "id": "DGZmE6Wt1Sd0"
      },
      "source": [
        ""
      ],
      "execution_count": null,
      "outputs": []
    },
    {
      "cell_type": "code",
      "metadata": {
        "id": "JFAoMBhG1SpT"
      },
      "source": [
        ""
      ],
      "execution_count": null,
      "outputs": []
    },
    {
      "cell_type": "code",
      "metadata": {
        "id": "X-ONcZsH1Szm"
      },
      "source": [
        ""
      ],
      "execution_count": null,
      "outputs": []
    },
    {
      "cell_type": "markdown",
      "metadata": {
        "id": "Gydz-gbAZPc9"
      },
      "source": [
        "\n",
        "\n",
        "#RANDOM FOREST"
      ]
    },
    {
      "cell_type": "code",
      "metadata": {
        "colab": {
          "base_uri": "https://localhost:8080/"
        },
        "id": "qL4PzOOmZaB8",
        "outputId": "ae9471cc-13da-49f3-b2be-f750ccc3b93a"
      },
      "source": [
        "#matriz confusión entrenamiento\n",
        "RF = RandomForestClassifier()\n",
        "RF.fit(X_train, y_train)\n",
        "predictionsRF = RF.predict(X_test)\n",
        "print(f1_score(y_test, predictionsRF, average='macro'))\n",
        "print(confusion_matrix(y_test, predictionsRF))\n",
        "print(classification_report(y_test, predictionsRF))"
      ],
      "execution_count": null,
      "outputs": [
        {
          "output_type": "stream",
          "text": [
            "0.7434398615462581\n",
            "[[110 124]\n",
            " [  5 385]]\n",
            "              precision    recall  f1-score   support\n",
            "\n",
            "      NORMAL       0.96      0.47      0.63       234\n",
            "   PNEUMONIA       0.76      0.99      0.86       390\n",
            "\n",
            "    accuracy                           0.79       624\n",
            "   macro avg       0.86      0.73      0.74       624\n",
            "weighted avg       0.83      0.79      0.77       624\n",
            "\n"
          ],
          "name": "stdout"
        }
      ]
    },
    {
      "cell_type": "code",
      "metadata": {
        "colab": {
          "base_uri": "https://localhost:8080/"
        },
        "id": "0EjjCz9Qp5Wm",
        "outputId": "6106912c-eae1-41ac-df4f-29dd25a91ebc"
      },
      "source": [
        "F1_rf= accuracy_score(y_test, predictionsRF)\n",
        "print(F1_rf)"
      ],
      "execution_count": null,
      "outputs": [
        {
          "output_type": "stream",
          "text": [
            "0.7932692307692307\n"
          ],
          "name": "stdout"
        }
      ]
    },
    {
      "cell_type": "markdown",
      "metadata": {
        "id": "mRc56fw61Bt-"
      },
      "source": [
        "# ARBOL DE CLASIFICACIÓN"
      ]
    },
    {
      "cell_type": "code",
      "metadata": {
        "colab": {
          "base_uri": "https://localhost:8080/",
          "height": 229
        },
        "id": "mUJdznPp04cU",
        "outputId": "9a3bb1d5-73f3-4af1-ede3-6d2bfc17ce8b"
      },
      "source": [
        "# Diseño del árbol de clasificación\n",
        "clf= tree.DecisionTreeClassifier()\n",
        "clf= clf.fit(X_train, y_train)\n",
        "\n",
        "# grid search\n",
        "max_depth = range(1, 5) \n",
        "param_grid = dict(max_depth=max_depth)\n",
        "kfold = StratifiedKFold(n_splits=5, shuffle=True, random_state=None)\n",
        "kf = KFold(n_splits=5)\n",
        "score = clf.score(X_train,y_train)\n",
        "scores = cross_val_score(clf, X_train, y_train, cv=kf, scoring=\"accuracy\")\n",
        "preds = clf.predict(X_test)\n",
        "score_pred = accuracy_score(y_test, preds)\n",
        "grid_search = GridSearchCV(clf, param_grid, scoring=\"accuracy\", n_jobs= None, cv=None, verbose=0)\n",
        "grid_result = grid_search.fit(X_train, y_train)\n",
        "\n",
        "# Resumen de resultados\n",
        "print(\"Best: %f using %s\" % (grid_result.best_score_, grid_result.best_params_))\n",
        "means = grid_result.cv_results_['mean_test_score']\n",
        "stds = grid_result.cv_results_['std_test_score']\n",
        "params = grid_result.cv_results_['params']\n",
        "a = means   \n",
        "indice_max = a.argmax()\n",
        "indice_max= indice_max+1\n",
        "print(indice_max)    \n",
        "\n",
        "# Modelo Final\n",
        "clf = DecisionTreeClassifier(max_depth= indice_max, criterion= 'gini', random_state= 123)\n",
        "clf.fit(X_train, y_train)\n",
        "y_pred_arbol= clf.predict(X_test)\n",
        "\n",
        "#return\n",
        "print(\"----------------------------------------------\")\n",
        "print('Accuracy of Decision Tree classifier on test set: {:.2f}'\n",
        "      .format(clf.score(X_test, y_test)))\n",
        "print(\"Matriz de confusión: \")\n",
        "print(confusion_matrix(y_test, y_pred_arbol))\n",
        "print(\"----------------------------------------------\")\n",
        "print(\"Indicadores de precision, recall y f1-score: \")\n",
        "print(\"----------------------------------------------\")\n",
        "print(classification_report(y_test, y_pred_arbol))\n",
        "print(\"----------------------------------------------\")\n",
        "print(\"Resultados validación cruzada con 5 splits son: \")\n",
        "print(\"----------------------------------------------\")\n",
        "print(\"Metricas cross_validation\", scores)\n",
        "print(\"Media de cross_validation\", scores.mean())\n",
        "print(\"Metrica en Test\", score_pred)\n",
        "print(\"----------------------------------------------\")\n",
        "print(\"----------------------------------------------\")\n",
        "\n",
        "# report performance\n",
        "print('ARBOL: ', scores.mean(), scores.std())"
      ],
      "execution_count": null,
      "outputs": [
        {
          "output_type": "error",
          "ename": "NameError",
          "evalue": "ignored",
          "traceback": [
            "\u001b[0;31m---------------------------------------------------------------------------\u001b[0m",
            "\u001b[0;31mNameError\u001b[0m                                 Traceback (most recent call last)",
            "\u001b[0;32m<ipython-input-3-7fee8dcdaf4b>\u001b[0m in \u001b[0;36m<module>\u001b[0;34m()\u001b[0m\n\u001b[1;32m      1\u001b[0m \u001b[0;31m# Diseño del árbol de clasificación\u001b[0m\u001b[0;34m\u001b[0m\u001b[0;34m\u001b[0m\u001b[0;34m\u001b[0m\u001b[0m\n\u001b[1;32m      2\u001b[0m \u001b[0mclf\u001b[0m\u001b[0;34m=\u001b[0m \u001b[0mtree\u001b[0m\u001b[0;34m.\u001b[0m\u001b[0mDecisionTreeClassifier\u001b[0m\u001b[0;34m(\u001b[0m\u001b[0;34m)\u001b[0m\u001b[0;34m\u001b[0m\u001b[0;34m\u001b[0m\u001b[0m\n\u001b[0;32m----> 3\u001b[0;31m \u001b[0mclf\u001b[0m\u001b[0;34m=\u001b[0m \u001b[0mclf\u001b[0m\u001b[0;34m.\u001b[0m\u001b[0mfit\u001b[0m\u001b[0;34m(\u001b[0m\u001b[0mX_train\u001b[0m\u001b[0;34m,\u001b[0m \u001b[0my_train\u001b[0m\u001b[0;34m)\u001b[0m\u001b[0;34m\u001b[0m\u001b[0;34m\u001b[0m\u001b[0m\n\u001b[0m\u001b[1;32m      4\u001b[0m \u001b[0;34m\u001b[0m\u001b[0m\n\u001b[1;32m      5\u001b[0m \u001b[0;31m# grid search\u001b[0m\u001b[0;34m\u001b[0m\u001b[0;34m\u001b[0m\u001b[0;34m\u001b[0m\u001b[0m\n",
            "\u001b[0;31mNameError\u001b[0m: name 'X_train' is not defined"
          ]
        }
      ]
    },
    {
      "cell_type": "code",
      "metadata": {
        "colab": {
          "base_uri": "https://localhost:8080/"
        },
        "id": "Rg1nZhBfqCOL",
        "outputId": "55410bc0-f95f-4510-a494-60ffd8dac111"
      },
      "source": [
        "F1_ARBOL= clf.score(X_test, y_test)\n",
        "F1_arbol= accuracy_score(y_test, y_pred_arbol)\n",
        "print(F1_ARBOL)\n",
        "#print(F1_arbol)"
      ],
      "execution_count": null,
      "outputs": [
        {
          "output_type": "stream",
          "text": [
            "0.7019230769230769\n"
          ],
          "name": "stdout"
        }
      ]
    },
    {
      "cell_type": "markdown",
      "metadata": {
        "id": "Ejnf2T3hfqDg"
      },
      "source": [
        "#SVM"
      ]
    },
    {
      "cell_type": "code",
      "metadata": {
        "colab": {
          "base_uri": "https://localhost:8080/"
        },
        "id": "Ro-zbHhjGXQ6",
        "outputId": "225d20d4-be85-4286-9ecc-f453c64bcfba"
      },
      "source": [
        "kf = KFold(n_splits=5)\n",
        "kf.get_n_splits(X_train)"
      ],
      "execution_count": null,
      "outputs": [
        {
          "output_type": "execute_result",
          "data": {
            "text/plain": [
              "5"
            ]
          },
          "metadata": {
            "tags": []
          },
          "execution_count": 75
        }
      ]
    },
    {
      "cell_type": "code",
      "metadata": {
        "colab": {
          "background_save": true,
          "base_uri": "https://localhost:8080/"
        },
        "id": "CXsc7M8jGfwz",
        "outputId": "3deaab6b-be5c-4968-f28c-30867db9f512"
      },
      "source": [
        "### seleccion de hiperparametros\n",
        "tuned_parameters = [{'kernel': ['rbf'], 'gamma': [1e-3, 1e-4],\n",
        "                     'C': [1, 10, 100, 1000]},\n",
        "                    {'kernel': ['linear'], 'C': [1, 10, 100, 1000]}] ## Hiperparametros\n",
        "#y_train.reset_index(drop=True, inplace=True)\n",
        "for train_index, test_index in kf.split(X_train):\n",
        "    x_train, x_Val = X_train[train_index], X_train[test_index]\n",
        "    Y_train, y_Val = y_train[train_index], y_train[test_index]\n",
        "    #Validacion = Validacion+1\n",
        "    #print(\"k-fold: \"+ str(Validacion))\n",
        "    \n",
        "    Modelo_svm = GridSearchCV(SVC(), tuned_parameters, scoring='%s_macro' % 'precision')\n",
        "    Modelo_svm.fit(x_train,Y_train)\n",
        "    print(Modelo_svm.best_params_)\n",
        "    print()\n",
        "    means = Modelo_svm.cv_results_['mean_test_score']\n",
        "    stds = Modelo_svm.cv_results_['std_test_score']\n",
        "    for mean, std, params in zip(means, stds, Modelo_svm.cv_results_['params']):\n",
        "        print(\"%0.3f (+/-%0.03f) for %r\" % (mean, std * 2, params))"
      ],
      "execution_count": null,
      "outputs": [
        {
          "output_type": "stream",
          "text": [
            "/usr/local/lib/python3.6/dist-packages/sklearn/metrics/_classification.py:1272: UndefinedMetricWarning: Precision is ill-defined and being set to 0.0 in labels with no predicted samples. Use `zero_division` parameter to control this behavior.\n",
            "  _warn_prf(average, modifier, msg_start, len(result))\n",
            "/usr/local/lib/python3.6/dist-packages/sklearn/metrics/_classification.py:1272: UndefinedMetricWarning: Precision is ill-defined and being set to 0.0 in labels with no predicted samples. Use `zero_division` parameter to control this behavior.\n",
            "  _warn_prf(average, modifier, msg_start, len(result))\n",
            "/usr/local/lib/python3.6/dist-packages/sklearn/metrics/_classification.py:1272: UndefinedMetricWarning: Precision is ill-defined and being set to 0.0 in labels with no predicted samples. Use `zero_division` parameter to control this behavior.\n",
            "  _warn_prf(average, modifier, msg_start, len(result))\n",
            "/usr/local/lib/python3.6/dist-packages/sklearn/metrics/_classification.py:1272: UndefinedMetricWarning: Precision is ill-defined and being set to 0.0 in labels with no predicted samples. Use `zero_division` parameter to control this behavior.\n",
            "  _warn_prf(average, modifier, msg_start, len(result))\n",
            "/usr/local/lib/python3.6/dist-packages/sklearn/metrics/_classification.py:1272: UndefinedMetricWarning: Precision is ill-defined and being set to 0.0 in labels with no predicted samples. Use `zero_division` parameter to control this behavior.\n",
            "  _warn_prf(average, modifier, msg_start, len(result))\n"
          ],
          "name": "stderr"
        },
        {
          "output_type": "stream",
          "text": [
            "{'C': 1, 'gamma': 0.001, 'kernel': 'rbf'}\n",
            "\n",
            "0.963 (+/-0.038) for {'C': 1, 'gamma': 0.001, 'kernel': 'rbf'}\n",
            "0.464 (+/-0.001) for {'C': 1, 'gamma': 0.0001, 'kernel': 'rbf'}\n",
            "0.949 (+/-0.034) for {'C': 10, 'gamma': 0.001, 'kernel': 'rbf'}\n",
            "0.960 (+/-0.035) for {'C': 10, 'gamma': 0.0001, 'kernel': 'rbf'}\n",
            "0.929 (+/-0.055) for {'C': 100, 'gamma': 0.001, 'kernel': 'rbf'}\n",
            "0.946 (+/-0.037) for {'C': 100, 'gamma': 0.0001, 'kernel': 'rbf'}\n",
            "0.922 (+/-0.042) for {'C': 1000, 'gamma': 0.001, 'kernel': 'rbf'}\n",
            "0.925 (+/-0.068) for {'C': 1000, 'gamma': 0.0001, 'kernel': 'rbf'}\n",
            "0.905 (+/-0.053) for {'C': 1, 'kernel': 'linear'}\n",
            "0.905 (+/-0.053) for {'C': 10, 'kernel': 'linear'}\n",
            "0.905 (+/-0.053) for {'C': 100, 'kernel': 'linear'}\n",
            "0.905 (+/-0.053) for {'C': 1000, 'kernel': 'linear'}\n",
            "{'C': 100, 'gamma': 0.001, 'kernel': 'rbf'}\n",
            "\n",
            "0.944 (+/-0.042) for {'C': 1, 'gamma': 0.001, 'kernel': 'rbf'}\n",
            "0.904 (+/-0.034) for {'C': 1, 'gamma': 0.0001, 'kernel': 'rbf'}\n",
            "0.954 (+/-0.043) for {'C': 10, 'gamma': 0.001, 'kernel': 'rbf'}\n",
            "0.942 (+/-0.058) for {'C': 10, 'gamma': 0.0001, 'kernel': 'rbf'}\n",
            "0.955 (+/-0.040) for {'C': 100, 'gamma': 0.001, 'kernel': 'rbf'}\n",
            "0.950 (+/-0.050) for {'C': 100, 'gamma': 0.0001, 'kernel': 'rbf'}\n",
            "0.953 (+/-0.042) for {'C': 1000, 'gamma': 0.001, 'kernel': 'rbf'}\n",
            "0.949 (+/-0.043) for {'C': 1000, 'gamma': 0.0001, 'kernel': 'rbf'}\n",
            "0.941 (+/-0.051) for {'C': 1, 'kernel': 'linear'}\n",
            "0.941 (+/-0.051) for {'C': 10, 'kernel': 'linear'}\n",
            "0.941 (+/-0.051) for {'C': 100, 'kernel': 'linear'}\n",
            "0.941 (+/-0.051) for {'C': 1000, 'kernel': 'linear'}\n",
            "{'C': 1000, 'gamma': 0.001, 'kernel': 'rbf'}\n",
            "\n",
            "0.943 (+/-0.026) for {'C': 1, 'gamma': 0.001, 'kernel': 'rbf'}\n",
            "0.916 (+/-0.038) for {'C': 1, 'gamma': 0.0001, 'kernel': 'rbf'}\n",
            "0.953 (+/-0.018) for {'C': 10, 'gamma': 0.001, 'kernel': 'rbf'}\n",
            "0.942 (+/-0.025) for {'C': 10, 'gamma': 0.0001, 'kernel': 'rbf'}\n",
            "0.954 (+/-0.022) for {'C': 100, 'gamma': 0.001, 'kernel': 'rbf'}\n",
            "0.950 (+/-0.023) for {'C': 100, 'gamma': 0.0001, 'kernel': 'rbf'}\n",
            "0.954 (+/-0.029) for {'C': 1000, 'gamma': 0.001, 'kernel': 'rbf'}\n",
            "0.950 (+/-0.024) for {'C': 1000, 'gamma': 0.0001, 'kernel': 'rbf'}\n",
            "0.943 (+/-0.022) for {'C': 1, 'kernel': 'linear'}\n",
            "0.943 (+/-0.022) for {'C': 10, 'kernel': 'linear'}\n",
            "0.943 (+/-0.022) for {'C': 100, 'kernel': 'linear'}\n",
            "0.943 (+/-0.022) for {'C': 1000, 'kernel': 'linear'}\n",
            "{'C': 1000, 'gamma': 0.001, 'kernel': 'rbf'}\n",
            "\n",
            "0.942 (+/-0.033) for {'C': 1, 'gamma': 0.001, 'kernel': 'rbf'}\n",
            "0.910 (+/-0.041) for {'C': 1, 'gamma': 0.0001, 'kernel': 'rbf'}\n",
            "0.955 (+/-0.023) for {'C': 10, 'gamma': 0.001, 'kernel': 'rbf'}\n",
            "0.938 (+/-0.039) for {'C': 10, 'gamma': 0.0001, 'kernel': 'rbf'}\n",
            "0.956 (+/-0.024) for {'C': 100, 'gamma': 0.001, 'kernel': 'rbf'}\n",
            "0.952 (+/-0.027) for {'C': 100, 'gamma': 0.0001, 'kernel': 'rbf'}\n",
            "0.957 (+/-0.024) for {'C': 1000, 'gamma': 0.001, 'kernel': 'rbf'}\n",
            "0.951 (+/-0.023) for {'C': 1000, 'gamma': 0.0001, 'kernel': 'rbf'}\n",
            "0.935 (+/-0.046) for {'C': 1, 'kernel': 'linear'}\n",
            "0.935 (+/-0.046) for {'C': 10, 'kernel': 'linear'}\n",
            "0.935 (+/-0.046) for {'C': 100, 'kernel': 'linear'}\n",
            "0.935 (+/-0.046) for {'C': 1000, 'kernel': 'linear'}\n",
            "{'C': 1000, 'gamma': 0.001, 'kernel': 'rbf'}\n",
            "\n",
            "0.943 (+/-0.025) for {'C': 1, 'gamma': 0.001, 'kernel': 'rbf'}\n",
            "0.907 (+/-0.036) for {'C': 1, 'gamma': 0.0001, 'kernel': 'rbf'}\n",
            "0.952 (+/-0.017) for {'C': 10, 'gamma': 0.001, 'kernel': 'rbf'}\n",
            "0.937 (+/-0.028) for {'C': 10, 'gamma': 0.0001, 'kernel': 'rbf'}\n",
            "0.952 (+/-0.017) for {'C': 100, 'gamma': 0.001, 'kernel': 'rbf'}\n",
            "0.951 (+/-0.017) for {'C': 100, 'gamma': 0.0001, 'kernel': 'rbf'}\n",
            "0.953 (+/-0.016) for {'C': 1000, 'gamma': 0.001, 'kernel': 'rbf'}\n",
            "0.944 (+/-0.027) for {'C': 1000, 'gamma': 0.0001, 'kernel': 'rbf'}\n",
            "0.937 (+/-0.030) for {'C': 1, 'kernel': 'linear'}\n",
            "0.937 (+/-0.030) for {'C': 10, 'kernel': 'linear'}\n",
            "0.937 (+/-0.030) for {'C': 100, 'kernel': 'linear'}\n",
            "0.937 (+/-0.030) for {'C': 1000, 'kernel': 'linear'}\n"
          ],
          "name": "stdout"
        }
      ]
    },
    {
      "cell_type": "code",
      "metadata": {
        "colab": {
          "base_uri": "https://localhost:8080/"
        },
        "id": "5GhXtsOyGnHu",
        "outputId": "c673b0f5-24ab-47f5-fd55-91e05161b28a"
      },
      "source": [
        "## validacion cruzada\n",
        "F1_Train_svm = []\n",
        "Modelo = SVC( C=1000, kernel='linear')\n",
        "k = 0\n",
        "for train_index, test_index in kf.split(X_train):\n",
        "    x_train, x_Val = X_train[train_index], X_train[test_index]\n",
        "    Y_train, y_Val = y_train[train_index], y_train[test_index]   \n",
        "    Modelo_svm.fit(x_train,Y_train)\n",
        "    \n",
        "    k += 1\n",
        "    print(\"k-fold: \"+ str(k))\n",
        "    y_pred = np.array(Modelo_svm.predict(x_Val))\n",
        "    F1 = f1_score(y_true = y_Val, y_pred = y_pred, average='macro')\n",
        "    F1_Train_svm.append(F1)\n",
        "F1_Train_svm = np.array(F1_Train_svm)"
      ],
      "execution_count": null,
      "outputs": [
        {
          "output_type": "stream",
          "text": [
            "/usr/local/lib/python3.6/dist-packages/sklearn/metrics/_classification.py:1272: UndefinedMetricWarning: Precision is ill-defined and being set to 0.0 in labels with no predicted samples. Use `zero_division` parameter to control this behavior.\n",
            "  _warn_prf(average, modifier, msg_start, len(result))\n",
            "/usr/local/lib/python3.6/dist-packages/sklearn/metrics/_classification.py:1272: UndefinedMetricWarning: Precision is ill-defined and being set to 0.0 in labels with no predicted samples. Use `zero_division` parameter to control this behavior.\n",
            "  _warn_prf(average, modifier, msg_start, len(result))\n",
            "/usr/local/lib/python3.6/dist-packages/sklearn/metrics/_classification.py:1272: UndefinedMetricWarning: Precision is ill-defined and being set to 0.0 in labels with no predicted samples. Use `zero_division` parameter to control this behavior.\n",
            "  _warn_prf(average, modifier, msg_start, len(result))\n",
            "/usr/local/lib/python3.6/dist-packages/sklearn/metrics/_classification.py:1272: UndefinedMetricWarning: Precision is ill-defined and being set to 0.0 in labels with no predicted samples. Use `zero_division` parameter to control this behavior.\n",
            "  _warn_prf(average, modifier, msg_start, len(result))\n",
            "/usr/local/lib/python3.6/dist-packages/sklearn/metrics/_classification.py:1272: UndefinedMetricWarning: Precision is ill-defined and being set to 0.0 in labels with no predicted samples. Use `zero_division` parameter to control this behavior.\n",
            "  _warn_prf(average, modifier, msg_start, len(result))\n",
            "/usr/local/lib/python3.6/dist-packages/sklearn/metrics/_classification.py:1272: UndefinedMetricWarning: Precision is ill-defined and being set to 0.0 in labels with no predicted samples. Use `zero_division` parameter to control this behavior.\n",
            "  _warn_prf(average, modifier, msg_start, len(result))\n",
            "/usr/local/lib/python3.6/dist-packages/sklearn/metrics/_classification.py:1272: UndefinedMetricWarning: Precision is ill-defined and being set to 0.0 in labels with no predicted samples. Use `zero_division` parameter to control this behavior.\n",
            "  _warn_prf(average, modifier, msg_start, len(result))\n",
            "/usr/local/lib/python3.6/dist-packages/sklearn/metrics/_classification.py:1272: UndefinedMetricWarning: Precision is ill-defined and being set to 0.0 in labels with no predicted samples. Use `zero_division` parameter to control this behavior.\n",
            "  _warn_prf(average, modifier, msg_start, len(result))\n",
            "/usr/local/lib/python3.6/dist-packages/sklearn/metrics/_classification.py:1272: UndefinedMetricWarning: Precision is ill-defined and being set to 0.0 in labels with no predicted samples. Use `zero_division` parameter to control this behavior.\n",
            "  _warn_prf(average, modifier, msg_start, len(result))\n",
            "/usr/local/lib/python3.6/dist-packages/sklearn/metrics/_classification.py:1272: UndefinedMetricWarning: Precision is ill-defined and being set to 0.0 in labels with no predicted samples. Use `zero_division` parameter to control this behavior.\n",
            "  _warn_prf(average, modifier, msg_start, len(result))\n",
            "/usr/local/lib/python3.6/dist-packages/sklearn/metrics/_classification.py:1272: UndefinedMetricWarning: Precision is ill-defined and being set to 0.0 in labels with no predicted samples. Use `zero_division` parameter to control this behavior.\n",
            "  _warn_prf(average, modifier, msg_start, len(result))\n",
            "/usr/local/lib/python3.6/dist-packages/sklearn/metrics/_classification.py:1272: UndefinedMetricWarning: Precision is ill-defined and being set to 0.0 in labels with no predicted samples. Use `zero_division` parameter to control this behavior.\n",
            "  _warn_prf(average, modifier, msg_start, len(result))\n",
            "/usr/local/lib/python3.6/dist-packages/sklearn/metrics/_classification.py:1272: UndefinedMetricWarning: Precision is ill-defined and being set to 0.0 in labels with no predicted samples. Use `zero_division` parameter to control this behavior.\n",
            "  _warn_prf(average, modifier, msg_start, len(result))\n",
            "/usr/local/lib/python3.6/dist-packages/sklearn/metrics/_classification.py:1272: UndefinedMetricWarning: Precision is ill-defined and being set to 0.0 in labels with no predicted samples. Use `zero_division` parameter to control this behavior.\n",
            "  _warn_prf(average, modifier, msg_start, len(result))\n",
            "/usr/local/lib/python3.6/dist-packages/sklearn/metrics/_classification.py:1272: UndefinedMetricWarning: Precision is ill-defined and being set to 0.0 in labels with no predicted samples. Use `zero_division` parameter to control this behavior.\n",
            "  _warn_prf(average, modifier, msg_start, len(result))\n"
          ],
          "name": "stderr"
        },
        {
          "output_type": "stream",
          "text": [
            "k-fold: 1\n"
          ],
          "name": "stdout"
        },
        {
          "output_type": "stream",
          "text": [
            "/usr/local/lib/python3.6/dist-packages/sklearn/metrics/_classification.py:1272: UndefinedMetricWarning: Precision is ill-defined and being set to 0.0 in labels with no predicted samples. Use `zero_division` parameter to control this behavior.\n",
            "  _warn_prf(average, modifier, msg_start, len(result))\n",
            "/usr/local/lib/python3.6/dist-packages/sklearn/metrics/_classification.py:1272: UndefinedMetricWarning: Precision is ill-defined and being set to 0.0 in labels with no predicted samples. Use `zero_division` parameter to control this behavior.\n",
            "  _warn_prf(average, modifier, msg_start, len(result))\n",
            "/usr/local/lib/python3.6/dist-packages/sklearn/metrics/_classification.py:1272: UndefinedMetricWarning: Precision is ill-defined and being set to 0.0 in labels with no predicted samples. Use `zero_division` parameter to control this behavior.\n",
            "  _warn_prf(average, modifier, msg_start, len(result))\n",
            "/usr/local/lib/python3.6/dist-packages/sklearn/metrics/_classification.py:1272: UndefinedMetricWarning: Precision is ill-defined and being set to 0.0 in labels with no predicted samples. Use `zero_division` parameter to control this behavior.\n",
            "  _warn_prf(average, modifier, msg_start, len(result))\n",
            "/usr/local/lib/python3.6/dist-packages/sklearn/metrics/_classification.py:1272: UndefinedMetricWarning: Precision is ill-defined and being set to 0.0 in labels with no predicted samples. Use `zero_division` parameter to control this behavior.\n",
            "  _warn_prf(average, modifier, msg_start, len(result))\n",
            "/usr/local/lib/python3.6/dist-packages/sklearn/metrics/_classification.py:1272: UndefinedMetricWarning: Precision is ill-defined and being set to 0.0 in labels with no predicted samples. Use `zero_division` parameter to control this behavior.\n",
            "  _warn_prf(average, modifier, msg_start, len(result))\n",
            "/usr/local/lib/python3.6/dist-packages/sklearn/metrics/_classification.py:1272: UndefinedMetricWarning: Precision is ill-defined and being set to 0.0 in labels with no predicted samples. Use `zero_division` parameter to control this behavior.\n",
            "  _warn_prf(average, modifier, msg_start, len(result))\n",
            "/usr/local/lib/python3.6/dist-packages/sklearn/metrics/_classification.py:1272: UndefinedMetricWarning: Precision is ill-defined and being set to 0.0 in labels with no predicted samples. Use `zero_division` parameter to control this behavior.\n",
            "  _warn_prf(average, modifier, msg_start, len(result))\n",
            "/usr/local/lib/python3.6/dist-packages/sklearn/metrics/_classification.py:1272: UndefinedMetricWarning: Precision is ill-defined and being set to 0.0 in labels with no predicted samples. Use `zero_division` parameter to control this behavior.\n",
            "  _warn_prf(average, modifier, msg_start, len(result))\n",
            "/usr/local/lib/python3.6/dist-packages/sklearn/metrics/_classification.py:1272: UndefinedMetricWarning: Precision is ill-defined and being set to 0.0 in labels with no predicted samples. Use `zero_division` parameter to control this behavior.\n",
            "  _warn_prf(average, modifier, msg_start, len(result))\n",
            "/usr/local/lib/python3.6/dist-packages/sklearn/metrics/_classification.py:1272: UndefinedMetricWarning: Precision is ill-defined and being set to 0.0 in labels with no predicted samples. Use `zero_division` parameter to control this behavior.\n",
            "  _warn_prf(average, modifier, msg_start, len(result))\n",
            "/usr/local/lib/python3.6/dist-packages/sklearn/metrics/_classification.py:1272: UndefinedMetricWarning: Precision is ill-defined and being set to 0.0 in labels with no predicted samples. Use `zero_division` parameter to control this behavior.\n",
            "  _warn_prf(average, modifier, msg_start, len(result))\n",
            "/usr/local/lib/python3.6/dist-packages/sklearn/metrics/_classification.py:1272: UndefinedMetricWarning: Precision is ill-defined and being set to 0.0 in labels with no predicted samples. Use `zero_division` parameter to control this behavior.\n",
            "  _warn_prf(average, modifier, msg_start, len(result))\n",
            "/usr/local/lib/python3.6/dist-packages/sklearn/metrics/_classification.py:1272: UndefinedMetricWarning: Precision is ill-defined and being set to 0.0 in labels with no predicted samples. Use `zero_division` parameter to control this behavior.\n",
            "  _warn_prf(average, modifier, msg_start, len(result))\n",
            "/usr/local/lib/python3.6/dist-packages/sklearn/metrics/_classification.py:1272: UndefinedMetricWarning: Precision is ill-defined and being set to 0.0 in labels with no predicted samples. Use `zero_division` parameter to control this behavior.\n",
            "  _warn_prf(average, modifier, msg_start, len(result))\n"
          ],
          "name": "stderr"
        },
        {
          "output_type": "stream",
          "text": [
            "k-fold: 2\n"
          ],
          "name": "stdout"
        },
        {
          "output_type": "stream",
          "text": [
            "/usr/local/lib/python3.6/dist-packages/sklearn/metrics/_classification.py:1272: UndefinedMetricWarning: Precision is ill-defined and being set to 0.0 in labels with no predicted samples. Use `zero_division` parameter to control this behavior.\n",
            "  _warn_prf(average, modifier, msg_start, len(result))\n",
            "/usr/local/lib/python3.6/dist-packages/sklearn/metrics/_classification.py:1272: UndefinedMetricWarning: Precision is ill-defined and being set to 0.0 in labels with no predicted samples. Use `zero_division` parameter to control this behavior.\n",
            "  _warn_prf(average, modifier, msg_start, len(result))\n",
            "/usr/local/lib/python3.6/dist-packages/sklearn/metrics/_classification.py:1272: UndefinedMetricWarning: Precision is ill-defined and being set to 0.0 in labels with no predicted samples. Use `zero_division` parameter to control this behavior.\n",
            "  _warn_prf(average, modifier, msg_start, len(result))\n",
            "/usr/local/lib/python3.6/dist-packages/sklearn/metrics/_classification.py:1272: UndefinedMetricWarning: Precision is ill-defined and being set to 0.0 in labels with no predicted samples. Use `zero_division` parameter to control this behavior.\n",
            "  _warn_prf(average, modifier, msg_start, len(result))\n",
            "/usr/local/lib/python3.6/dist-packages/sklearn/metrics/_classification.py:1272: UndefinedMetricWarning: Precision is ill-defined and being set to 0.0 in labels with no predicted samples. Use `zero_division` parameter to control this behavior.\n",
            "  _warn_prf(average, modifier, msg_start, len(result))\n",
            "/usr/local/lib/python3.6/dist-packages/sklearn/metrics/_classification.py:1272: UndefinedMetricWarning: Precision is ill-defined and being set to 0.0 in labels with no predicted samples. Use `zero_division` parameter to control this behavior.\n",
            "  _warn_prf(average, modifier, msg_start, len(result))\n",
            "/usr/local/lib/python3.6/dist-packages/sklearn/metrics/_classification.py:1272: UndefinedMetricWarning: Precision is ill-defined and being set to 0.0 in labels with no predicted samples. Use `zero_division` parameter to control this behavior.\n",
            "  _warn_prf(average, modifier, msg_start, len(result))\n",
            "/usr/local/lib/python3.6/dist-packages/sklearn/metrics/_classification.py:1272: UndefinedMetricWarning: Precision is ill-defined and being set to 0.0 in labels with no predicted samples. Use `zero_division` parameter to control this behavior.\n",
            "  _warn_prf(average, modifier, msg_start, len(result))\n",
            "/usr/local/lib/python3.6/dist-packages/sklearn/metrics/_classification.py:1272: UndefinedMetricWarning: Precision is ill-defined and being set to 0.0 in labels with no predicted samples. Use `zero_division` parameter to control this behavior.\n",
            "  _warn_prf(average, modifier, msg_start, len(result))\n",
            "/usr/local/lib/python3.6/dist-packages/sklearn/metrics/_classification.py:1272: UndefinedMetricWarning: Precision is ill-defined and being set to 0.0 in labels with no predicted samples. Use `zero_division` parameter to control this behavior.\n",
            "  _warn_prf(average, modifier, msg_start, len(result))\n",
            "/usr/local/lib/python3.6/dist-packages/sklearn/metrics/_classification.py:1272: UndefinedMetricWarning: Precision is ill-defined and being set to 0.0 in labels with no predicted samples. Use `zero_division` parameter to control this behavior.\n",
            "  _warn_prf(average, modifier, msg_start, len(result))\n",
            "/usr/local/lib/python3.6/dist-packages/sklearn/metrics/_classification.py:1272: UndefinedMetricWarning: Precision is ill-defined and being set to 0.0 in labels with no predicted samples. Use `zero_division` parameter to control this behavior.\n",
            "  _warn_prf(average, modifier, msg_start, len(result))\n",
            "/usr/local/lib/python3.6/dist-packages/sklearn/metrics/_classification.py:1272: UndefinedMetricWarning: Precision is ill-defined and being set to 0.0 in labels with no predicted samples. Use `zero_division` parameter to control this behavior.\n",
            "  _warn_prf(average, modifier, msg_start, len(result))\n",
            "/usr/local/lib/python3.6/dist-packages/sklearn/metrics/_classification.py:1272: UndefinedMetricWarning: Precision is ill-defined and being set to 0.0 in labels with no predicted samples. Use `zero_division` parameter to control this behavior.\n",
            "  _warn_prf(average, modifier, msg_start, len(result))\n",
            "/usr/local/lib/python3.6/dist-packages/sklearn/metrics/_classification.py:1272: UndefinedMetricWarning: Precision is ill-defined and being set to 0.0 in labels with no predicted samples. Use `zero_division` parameter to control this behavior.\n",
            "  _warn_prf(average, modifier, msg_start, len(result))\n"
          ],
          "name": "stderr"
        },
        {
          "output_type": "stream",
          "text": [
            "k-fold: 3\n"
          ],
          "name": "stdout"
        },
        {
          "output_type": "stream",
          "text": [
            "/usr/local/lib/python3.6/dist-packages/sklearn/metrics/_classification.py:1272: UndefinedMetricWarning: Precision is ill-defined and being set to 0.0 in labels with no predicted samples. Use `zero_division` parameter to control this behavior.\n",
            "  _warn_prf(average, modifier, msg_start, len(result))\n",
            "/usr/local/lib/python3.6/dist-packages/sklearn/metrics/_classification.py:1272: UndefinedMetricWarning: Precision is ill-defined and being set to 0.0 in labels with no predicted samples. Use `zero_division` parameter to control this behavior.\n",
            "  _warn_prf(average, modifier, msg_start, len(result))\n",
            "/usr/local/lib/python3.6/dist-packages/sklearn/metrics/_classification.py:1272: UndefinedMetricWarning: Precision is ill-defined and being set to 0.0 in labels with no predicted samples. Use `zero_division` parameter to control this behavior.\n",
            "  _warn_prf(average, modifier, msg_start, len(result))\n",
            "/usr/local/lib/python3.6/dist-packages/sklearn/metrics/_classification.py:1272: UndefinedMetricWarning: Precision is ill-defined and being set to 0.0 in labels with no predicted samples. Use `zero_division` parameter to control this behavior.\n",
            "  _warn_prf(average, modifier, msg_start, len(result))\n",
            "/usr/local/lib/python3.6/dist-packages/sklearn/metrics/_classification.py:1272: UndefinedMetricWarning: Precision is ill-defined and being set to 0.0 in labels with no predicted samples. Use `zero_division` parameter to control this behavior.\n",
            "  _warn_prf(average, modifier, msg_start, len(result))\n",
            "/usr/local/lib/python3.6/dist-packages/sklearn/metrics/_classification.py:1272: UndefinedMetricWarning: Precision is ill-defined and being set to 0.0 in labels with no predicted samples. Use `zero_division` parameter to control this behavior.\n",
            "  _warn_prf(average, modifier, msg_start, len(result))\n",
            "/usr/local/lib/python3.6/dist-packages/sklearn/metrics/_classification.py:1272: UndefinedMetricWarning: Precision is ill-defined and being set to 0.0 in labels with no predicted samples. Use `zero_division` parameter to control this behavior.\n",
            "  _warn_prf(average, modifier, msg_start, len(result))\n",
            "/usr/local/lib/python3.6/dist-packages/sklearn/metrics/_classification.py:1272: UndefinedMetricWarning: Precision is ill-defined and being set to 0.0 in labels with no predicted samples. Use `zero_division` parameter to control this behavior.\n",
            "  _warn_prf(average, modifier, msg_start, len(result))\n",
            "/usr/local/lib/python3.6/dist-packages/sklearn/metrics/_classification.py:1272: UndefinedMetricWarning: Precision is ill-defined and being set to 0.0 in labels with no predicted samples. Use `zero_division` parameter to control this behavior.\n",
            "  _warn_prf(average, modifier, msg_start, len(result))\n",
            "/usr/local/lib/python3.6/dist-packages/sklearn/metrics/_classification.py:1272: UndefinedMetricWarning: Precision is ill-defined and being set to 0.0 in labels with no predicted samples. Use `zero_division` parameter to control this behavior.\n",
            "  _warn_prf(average, modifier, msg_start, len(result))\n",
            "/usr/local/lib/python3.6/dist-packages/sklearn/metrics/_classification.py:1272: UndefinedMetricWarning: Precision is ill-defined and being set to 0.0 in labels with no predicted samples. Use `zero_division` parameter to control this behavior.\n",
            "  _warn_prf(average, modifier, msg_start, len(result))\n",
            "/usr/local/lib/python3.6/dist-packages/sklearn/metrics/_classification.py:1272: UndefinedMetricWarning: Precision is ill-defined and being set to 0.0 in labels with no predicted samples. Use `zero_division` parameter to control this behavior.\n",
            "  _warn_prf(average, modifier, msg_start, len(result))\n",
            "/usr/local/lib/python3.6/dist-packages/sklearn/metrics/_classification.py:1272: UndefinedMetricWarning: Precision is ill-defined and being set to 0.0 in labels with no predicted samples. Use `zero_division` parameter to control this behavior.\n",
            "  _warn_prf(average, modifier, msg_start, len(result))\n",
            "/usr/local/lib/python3.6/dist-packages/sklearn/metrics/_classification.py:1272: UndefinedMetricWarning: Precision is ill-defined and being set to 0.0 in labels with no predicted samples. Use `zero_division` parameter to control this behavior.\n",
            "  _warn_prf(average, modifier, msg_start, len(result))\n",
            "/usr/local/lib/python3.6/dist-packages/sklearn/metrics/_classification.py:1272: UndefinedMetricWarning: Precision is ill-defined and being set to 0.0 in labels with no predicted samples. Use `zero_division` parameter to control this behavior.\n",
            "  _warn_prf(average, modifier, msg_start, len(result))\n"
          ],
          "name": "stderr"
        },
        {
          "output_type": "stream",
          "text": [
            "k-fold: 4\n"
          ],
          "name": "stdout"
        },
        {
          "output_type": "stream",
          "text": [
            "/usr/local/lib/python3.6/dist-packages/sklearn/metrics/_classification.py:1272: UndefinedMetricWarning: Precision is ill-defined and being set to 0.0 in labels with no predicted samples. Use `zero_division` parameter to control this behavior.\n",
            "  _warn_prf(average, modifier, msg_start, len(result))\n",
            "/usr/local/lib/python3.6/dist-packages/sklearn/metrics/_classification.py:1272: UndefinedMetricWarning: Precision is ill-defined and being set to 0.0 in labels with no predicted samples. Use `zero_division` parameter to control this behavior.\n",
            "  _warn_prf(average, modifier, msg_start, len(result))\n",
            "/usr/local/lib/python3.6/dist-packages/sklearn/metrics/_classification.py:1272: UndefinedMetricWarning: Precision is ill-defined and being set to 0.0 in labels with no predicted samples. Use `zero_division` parameter to control this behavior.\n",
            "  _warn_prf(average, modifier, msg_start, len(result))\n",
            "/usr/local/lib/python3.6/dist-packages/sklearn/metrics/_classification.py:1272: UndefinedMetricWarning: Precision is ill-defined and being set to 0.0 in labels with no predicted samples. Use `zero_division` parameter to control this behavior.\n",
            "  _warn_prf(average, modifier, msg_start, len(result))\n",
            "/usr/local/lib/python3.6/dist-packages/sklearn/metrics/_classification.py:1272: UndefinedMetricWarning: Precision is ill-defined and being set to 0.0 in labels with no predicted samples. Use `zero_division` parameter to control this behavior.\n",
            "  _warn_prf(average, modifier, msg_start, len(result))\n",
            "/usr/local/lib/python3.6/dist-packages/sklearn/metrics/_classification.py:1272: UndefinedMetricWarning: Precision is ill-defined and being set to 0.0 in labels with no predicted samples. Use `zero_division` parameter to control this behavior.\n",
            "  _warn_prf(average, modifier, msg_start, len(result))\n",
            "/usr/local/lib/python3.6/dist-packages/sklearn/metrics/_classification.py:1272: UndefinedMetricWarning: Precision is ill-defined and being set to 0.0 in labels with no predicted samples. Use `zero_division` parameter to control this behavior.\n",
            "  _warn_prf(average, modifier, msg_start, len(result))\n",
            "/usr/local/lib/python3.6/dist-packages/sklearn/metrics/_classification.py:1272: UndefinedMetricWarning: Precision is ill-defined and being set to 0.0 in labels with no predicted samples. Use `zero_division` parameter to control this behavior.\n",
            "  _warn_prf(average, modifier, msg_start, len(result))\n",
            "/usr/local/lib/python3.6/dist-packages/sklearn/metrics/_classification.py:1272: UndefinedMetricWarning: Precision is ill-defined and being set to 0.0 in labels with no predicted samples. Use `zero_division` parameter to control this behavior.\n",
            "  _warn_prf(average, modifier, msg_start, len(result))\n",
            "/usr/local/lib/python3.6/dist-packages/sklearn/metrics/_classification.py:1272: UndefinedMetricWarning: Precision is ill-defined and being set to 0.0 in labels with no predicted samples. Use `zero_division` parameter to control this behavior.\n",
            "  _warn_prf(average, modifier, msg_start, len(result))\n",
            "/usr/local/lib/python3.6/dist-packages/sklearn/metrics/_classification.py:1272: UndefinedMetricWarning: Precision is ill-defined and being set to 0.0 in labels with no predicted samples. Use `zero_division` parameter to control this behavior.\n",
            "  _warn_prf(average, modifier, msg_start, len(result))\n",
            "/usr/local/lib/python3.6/dist-packages/sklearn/metrics/_classification.py:1272: UndefinedMetricWarning: Precision is ill-defined and being set to 0.0 in labels with no predicted samples. Use `zero_division` parameter to control this behavior.\n",
            "  _warn_prf(average, modifier, msg_start, len(result))\n",
            "/usr/local/lib/python3.6/dist-packages/sklearn/metrics/_classification.py:1272: UndefinedMetricWarning: Precision is ill-defined and being set to 0.0 in labels with no predicted samples. Use `zero_division` parameter to control this behavior.\n",
            "  _warn_prf(average, modifier, msg_start, len(result))\n",
            "/usr/local/lib/python3.6/dist-packages/sklearn/metrics/_classification.py:1272: UndefinedMetricWarning: Precision is ill-defined and being set to 0.0 in labels with no predicted samples. Use `zero_division` parameter to control this behavior.\n",
            "  _warn_prf(average, modifier, msg_start, len(result))\n",
            "/usr/local/lib/python3.6/dist-packages/sklearn/metrics/_classification.py:1272: UndefinedMetricWarning: Precision is ill-defined and being set to 0.0 in labels with no predicted samples. Use `zero_division` parameter to control this behavior.\n",
            "  _warn_prf(average, modifier, msg_start, len(result))\n"
          ],
          "name": "stderr"
        },
        {
          "output_type": "stream",
          "text": [
            "k-fold: 5\n"
          ],
          "name": "stdout"
        }
      ]
    },
    {
      "cell_type": "code",
      "metadata": {
        "colab": {
          "base_uri": "https://localhost:8080/"
        },
        "id": "CZlkd8b6GuRU",
        "outputId": "e23d78f4-11af-4cd8-8655-33302df67b4d"
      },
      "source": [
        "F1_Train_svm = F1_Train_svm.mean()\n",
        "F1_Train_svm"
      ],
      "execution_count": null,
      "outputs": [
        {
          "output_type": "execute_result",
          "data": {
            "text/plain": [
              "0.93299473457537"
            ]
          },
          "metadata": {
            "tags": []
          },
          "execution_count": 44
        }
      ]
    },
    {
      "cell_type": "code",
      "metadata": {
        "colab": {
          "base_uri": "https://localhost:8080/"
        },
        "id": "P391268VGxhX",
        "outputId": "f6fbb6c1-9c46-45b1-bd27-a3aae6c5c2da"
      },
      "source": [
        "Modelo = SVC( C=1000, kernel='linear')\n",
        "Modelo.fit(X_train,y_train)\n",
        "y_pred =  Modelo.predict(X_test)\n",
        "F1_Test_svm = f1_score(y_true = y_test, y_pred = y_pred, average='macro')\n",
        "F1_Test_svm"
      ],
      "execution_count": null,
      "outputs": [
        {
          "output_type": "execute_result",
          "data": {
            "text/plain": [
              "0.933291867516716"
            ]
          },
          "metadata": {
            "tags": []
          },
          "execution_count": 45
        }
      ]
    },
    {
      "cell_type": "markdown",
      "metadata": {
        "id": "5jS-IvX_zM8b"
      },
      "source": [
        "#NAIVE BAYES"
      ]
    },
    {
      "cell_type": "code",
      "metadata": {
        "colab": {
          "base_uri": "https://localhost:8080/"
        },
        "id": "3TiXQFCRp5WI",
        "outputId": "a6b1e6f2-5da4-4cfa-f00a-15af01dafb3c"
      },
      "source": [
        "#validacion cruzada \n",
        "from numpy import mean\n",
        "from numpy import std\n",
        "from sklearn.naive_bayes import GaussianNB\n",
        "from sklearn.datasets import make_classification\n",
        "from sklearn.model_selection import KFold\n",
        "from sklearn.model_selection import cross_val_score\n",
        "from sklearn.metrics import classification_report\n",
        "from sklearn.metrics import confusion_matrix\n",
        "\n",
        "# prepare the cross-validation procedure\n",
        "cv = KFold(n_splits=5, random_state=1, shuffle=True)\n",
        "# create model\n",
        "modelNB = GaussianNB()\n",
        "# evaluate model\n",
        "scoresNB = cross_val_score(modelNB, X_train, y_train, scoring=('f1_macro'), cv=cv, n_jobs=-1)\n",
        "\n",
        "# report performance\n",
        "F1_Train_NB = mean(scoresNB)\n",
        "print('F1 NB: %.3f (%.3f)' % (mean(scoresNB), std(scoresNB)))"
      ],
      "execution_count": null,
      "outputs": [
        {
          "output_type": "stream",
          "text": [
            "F1 NB: 0.926 (0.022)\n"
          ],
          "name": "stdout"
        }
      ]
    },
    {
      "cell_type": "code",
      "metadata": {
        "colab": {
          "base_uri": "https://localhost:8080/"
        },
        "id": "FJb5NTVmrTS-",
        "outputId": "375efd97-42a0-48d1-f6e3-3829e58ab33f"
      },
      "source": [
        "#modelado naive bayes\n",
        "gnb = GaussianNB()\n",
        "gnb.fit(X_train, y_train)\n",
        "\n",
        "print('Accuracy of GNB classifier on training set: {:.2f}'\n",
        "     .format(gnb.score(X_train, y_train)))\n",
        "print('Accuracy of GNB classifier on test set: {:.2f}'\n",
        "     .format(gnb.score(X_test, y_test)))"
      ],
      "execution_count": null,
      "outputs": [
        {
          "output_type": "stream",
          "text": [
            "Accuracy of GNB classifier on training set: 0.93\n",
            "Accuracy of GNB classifier on test set: 0.93\n"
          ],
          "name": "stdout"
        }
      ]
    },
    {
      "cell_type": "code",
      "metadata": {
        "colab": {
          "base_uri": "https://localhost:8080/"
        },
        "id": "E38ok0NIJ8tW",
        "outputId": "4ffc2434-b95d-4ec9-8cf4-74f29af68c1e"
      },
      "source": [
        "predgnb = gnb.predict(X_test)\n",
        "\n",
        "F1_Test_nb = f1_score(y_true = y_test, y_pred = predgnb, average='macro')\n",
        "print(confusion_matrix(y_test, predgnb))\n",
        "print(classification_report(y_test, predgnb))\n",
        "print(F1_Test_nb)"
      ],
      "execution_count": null,
      "outputs": [
        {
          "output_type": "stream",
          "text": [
            "[[86  4]\n",
            " [ 6 47]]\n",
            "              precision    recall  f1-score   support\n",
            "\n",
            "           B       0.93      0.96      0.95        90\n",
            "           M       0.92      0.89      0.90        53\n",
            "\n",
            "    accuracy                           0.93       143\n",
            "   macro avg       0.93      0.92      0.92       143\n",
            "weighted avg       0.93      0.93      0.93       143\n",
            "\n",
            "0.9244505494505495\n"
          ],
          "name": "stdout"
        }
      ]
    },
    {
      "cell_type": "markdown",
      "metadata": {
        "id": "oqgESRjFvrQK"
      },
      "source": [
        "# XGBOOST (Extreme Gradient Boosting)"
      ]
    },
    {
      "cell_type": "code",
      "metadata": {
        "colab": {
          "base_uri": "https://localhost:8080/"
        },
        "id": "_yITlBX0vrQK",
        "outputId": "0b4873e0-6ac1-44d0-e954-0037149b3f66"
      },
      "source": [
        "!pip3 install xgboost"
      ],
      "execution_count": null,
      "outputs": [
        {
          "output_type": "stream",
          "text": [
            "Requirement already satisfied: xgboost in /usr/local/lib/python3.6/dist-packages (0.90)\n",
            "Requirement already satisfied: numpy in /usr/local/lib/python3.6/dist-packages (from xgboost) (1.19.4)\n",
            "Requirement already satisfied: scipy in /usr/local/lib/python3.6/dist-packages (from xgboost) (1.4.1)\n"
          ],
          "name": "stdout"
        }
      ]
    },
    {
      "cell_type": "code",
      "metadata": {
        "colab": {
          "base_uri": "https://localhost:8080/"
        },
        "id": "iE5HqoZEwJ7w",
        "outputId": "f8d01b44-affa-43c6-ae46-64da96f25419"
      },
      "source": [
        "# Definición de las covariables X y variable respuesta Y\n",
        "X = datamodelo_train.drop('diagnosis', axis=1)\n",
        "y = datamodelo_train.diagnosis\n",
        "\n",
        "# Particion base train\n",
        "X_train, X_test, y_train, y_test = train_test_split(X, y, test_size=0.30, stratify=y, random_state=42)\n",
        "\n",
        "# Proceso de normalización de los datos\n",
        "scaler = MinMaxScaler()\n",
        "X_train = scaler.fit_transform(X_train)\n",
        "X_test = scaler.transform(X_test)\n",
        "\n",
        "# Diseño del árbol de clasificación\n",
        "clf = XGBClassifier()\n",
        "clf = clf.fit(X_train, y_train)\n",
        "\n",
        "# grid search\n",
        "n_estimators = range(1, 20)\n",
        "param_grid = dict(n_estimators=n_estimators)\n",
        "kf = KFold(n_splits=5)\n",
        "score = clf.score(X_train,y_train)\n",
        "scores = cross_val_score(clf, X_train, y_train, cv=kf, scoring=\"f1_macro\")\n",
        "preds = clf.predict(X_test)\n",
        "score_pred = accuracy_score(y_test, preds)\n",
        "grid_search = GridSearchCV(clf, param_grid, scoring=\"f1_macro\", n_jobs= None, cv=kfold, verbose=1)\n",
        "grid_result = grid_search.fit(X_train, y_train)\n",
        "    \n",
        "# Resumen de resultados\n",
        "#print(\"Best: %f using %s\" % (grid_result.best_score_, grid_result.best_params_))\n",
        "means = grid_result.cv_results_['mean_test_score']\n",
        "stds = grid_result.cv_results_['std_test_score']\n",
        "params = grid_result.cv_results_['params']\n",
        "a = means   \n",
        "indice_max = a.argmax()\n",
        "print(indice_max)\n",
        "# Modelo Final\n",
        "clf_XGB = XGBClassifier(\n",
        "    n_estimators=indice_max, \n",
        "    max_depth=3, \n",
        "    min_impurity_decrease=0.0, \n",
        "    min_impurity_split=None)  \n",
        "clf_XGB.fit(X_train, y_train)\n",
        "y_pred_xgb= clf_XGB.predict(X_test)\n",
        "\n",
        "#return\n",
        "print(\"----------------------------------------------\")\n",
        "print('Accuracy of xgboost on test set: {:.2f}'\n",
        "      .format(clf.score(X_test, y_test)))\n",
        "print(\"Matriz de confusión: \")\n",
        "print(confusion_matrix(y_test, y_pred_xgb))\n",
        "print(\"----------------------------------------------\")\n",
        "print(\"Indicadores de precision, recall y f1-score: \")\n",
        "print(\"----------------------------------------------\")\n",
        "print(classification_report(y_test, y_pred_xgb))\n",
        "print(\"----------------------------------------------\")\n",
        "print(\"Resultados validación cruzada con 5 splits son: \")\n",
        "print(\"----------------------------------------------\")\n",
        "print(\"Metricas cross_validation\", scores)\n",
        "print(\"Media de cross_validation\", scores.mean())\n",
        "print(\"Metrica en Test\", score_pred)\n",
        "print(\"----------------------------------------------\")\n",
        "print(\"----------------------------------------------\")\n",
        "\n",
        "# report performance\n",
        "F1_XGB=scores.mean()\n",
        "print(F1_XGB)\n",
        "print('XGB: ', scores.mean(), scores.std())"
      ],
      "execution_count": null,
      "outputs": [
        {
          "output_type": "stream",
          "text": [
            "Fitting 5 folds for each of 19 candidates, totalling 95 fits\n"
          ],
          "name": "stdout"
        },
        {
          "output_type": "stream",
          "text": [
            "[Parallel(n_jobs=1)]: Using backend SequentialBackend with 1 concurrent workers.\n"
          ],
          "name": "stderr"
        },
        {
          "output_type": "stream",
          "text": [
            "2\n",
            "----------------------------------------------\n",
            "Accuracy of xgboost on test set: 0.94\n",
            "Matriz de confusión: \n",
            "[[105   2]\n",
            " [ 15  49]]\n",
            "----------------------------------------------\n",
            "Indicadores de precision, recall y f1-score: \n",
            "----------------------------------------------\n",
            "              precision    recall  f1-score   support\n",
            "\n",
            "           B       0.88      0.98      0.93       107\n",
            "           M       0.96      0.77      0.85        64\n",
            "\n",
            "    accuracy                           0.90       171\n",
            "   macro avg       0.92      0.87      0.89       171\n",
            "weighted avg       0.91      0.90      0.90       171\n",
            "\n",
            "----------------------------------------------\n",
            "Resultados validación cruzada con 5 splits son: \n",
            "----------------------------------------------\n",
            "Metricas cross_validation [0.97150997 0.97395833 0.92327366 0.92121011 0.83729639]\n",
            "Media de cross_validation 0.9254496909919544\n",
            "Metrica en Test 0.9415204678362573\n",
            "----------------------------------------------\n",
            "----------------------------------------------\n",
            "0.9254496909919544\n",
            "XGB:  0.9254496909919544 0.0495345377008285\n"
          ],
          "name": "stdout"
        },
        {
          "output_type": "stream",
          "text": [
            "[Parallel(n_jobs=1)]: Done  95 out of  95 | elapsed:    0.9s finished\n"
          ],
          "name": "stderr"
        }
      ]
    },
    {
      "cell_type": "code",
      "metadata": {
        "colab": {
          "base_uri": "https://localhost:8080/"
        },
        "id": "ePNp-wD70PAm",
        "outputId": "523b1bc5-10f9-48fb-9211-47fb0fe04af7"
      },
      "source": [
        "# Prueba con basemodelo_test\n",
        "#Test = datamodelo_test.drop(\"diagnosis\", axis=1)\n",
        "#Test= scaler.transform(Test)\n",
        "#Test_y= datamodelo_test['diagnosis']\n",
        "y_pred_arbol_XGB= clf_XGB.predict(X_test)\n",
        "print(confusion_matrix(y_test, y_pred_arbol_XGB))\n",
        "print('F1 Decision Tree classifier on test set: {:.2f}'\n",
        "     .format(clf_XGB.score(X_test, y_test)))"
      ],
      "execution_count": null,
      "outputs": [
        {
          "output_type": "stream",
          "text": [
            "[[105   2]\n",
            " [ 15  49]]\n",
            "F1 Decision Tree classifier on test set: 0.90\n"
          ],
          "name": "stdout"
        }
      ]
    },
    {
      "cell_type": "code",
      "metadata": {
        "colab": {
          "base_uri": "https://localhost:8080/"
        },
        "id": "Qn99BeWaqpNH",
        "outputId": "457731d5-c217-404c-8194-fcc01c32f583"
      },
      "source": [
        "F1_xgb=clf_XGB.score(X_test, y_test)\n",
        "F1_xgb"
      ],
      "execution_count": null,
      "outputs": [
        {
          "output_type": "execute_result",
          "data": {
            "text/plain": [
              "0.9005847953216374"
            ]
          },
          "metadata": {
            "tags": []
          },
          "execution_count": 52
        }
      ]
    },
    {
      "cell_type": "markdown",
      "metadata": {
        "id": "-zFQcvmZzUY8"
      },
      "source": [
        "# REDES"
      ]
    },
    {
      "cell_type": "code",
      "metadata": {
        "id": "heZI5UoLG6Zy"
      },
      "source": [
        "from sklearn.neural_network import MLPClassifier\n",
        "\n",
        "mlp = MLPClassifier(hidden_layer_sizes=(8,8,8), activation='relu', solver='adam', max_iter=500)\n",
        "mlp.fit(X_train,y_train)\n",
        "\n",
        "predict_train = mlp.predict(X_train)\n",
        "predict_test = mlp.predict(X_test)"
      ],
      "execution_count": null,
      "outputs": []
    },
    {
      "cell_type": "code",
      "metadata": {
        "id": "H9kfg_ypG9Wa"
      },
      "source": [
        "F1_Train_RN = f1_score(y_true = y_train, y_pred = predict_train, average='macro')\n",
        "F1_Test_RN = f1_score(y_true = y_test, y_pred = predict_test, average='macro')\n"
      ],
      "execution_count": null,
      "outputs": []
    },
    {
      "cell_type": "markdown",
      "metadata": {
        "id": "wZsrxsfKzWx5"
      },
      "source": [
        "# KNN\n",
        "\n"
      ]
    },
    {
      "cell_type": "code",
      "metadata": {
        "colab": {
          "base_uri": "https://localhost:8080/"
        },
        "id": "lKzTgNGBGKIP",
        "outputId": "2e4b28fb-25ae-4d1a-8426-de52aeadbbd7"
      },
      "source": [
        "##validacion cruzada KNeighborsClassifier\n",
        "from numpy import mean\n",
        "from numpy import std\n",
        "from sklearn.neighbors import KNeighborsClassifier\n",
        "from sklearn.naive_bayes import GaussianNB\n",
        "from sklearn.datasets import make_classification\n",
        "from sklearn.model_selection import KFold\n",
        "from sklearn.model_selection import cross_val_score\n",
        "from sklearn.metrics import classification_report\n",
        "from sklearn.metrics import confusion_matrix\n",
        "from sklearn.metrics import f1_score\n",
        "\n",
        "# prepare the cross-validation procedure\n",
        "cv = KFold(n_splits=5, random_state=1, shuffle=True)\n",
        "# create model\n",
        "modelKNN = KNeighborsClassifier()\n",
        "# evaluate model\n",
        "scoresKNN = cross_val_score(modelKNN, X_train, y_train, scoring=('f1_macro'), cv=cv, n_jobs=-1)\n",
        "F1_Train_KNN = mean(scoresKNN)\n",
        "\n",
        "# report performance\n",
        "print('F1 KNN: %.3f (%.3f)' % (mean(scoresKNN), std(scoresKNN)))"
      ],
      "execution_count": null,
      "outputs": [
        {
          "output_type": "stream",
          "text": [
            "F1 KNN: 0.927 (0.020)\n"
          ],
          "name": "stdout"
        }
      ]
    },
    {
      "cell_type": "code",
      "metadata": {
        "colab": {
          "base_uri": "https://localhost:8080/"
        },
        "id": "bx-YBLEJL9MP",
        "outputId": "b11e8dc2-a368-4d69-bf85-8f0f22109f13"
      },
      "source": [
        "#modelado knn\n",
        "knn = KNeighborsClassifier()\n",
        "knn.fit(X_train, y_train)\n",
        "\n",
        "\n",
        "print('Accuracy of K-NN classifier on training set: {:.2f}'\n",
        "     .format(knn.score(X_train, y_train)))\n",
        "print('Accuracy of K-NN classifier on test set: {:.2f}'\n",
        "     .format(knn.score(X_test, y_test)))"
      ],
      "execution_count": null,
      "outputs": [
        {
          "output_type": "stream",
          "text": [
            "Accuracy of K-NN classifier on training set: 0.96\n",
            "Accuracy of K-NN classifier on test set: 0.95\n"
          ],
          "name": "stdout"
        }
      ]
    },
    {
      "cell_type": "code",
      "metadata": {
        "colab": {
          "base_uri": "https://localhost:8080/"
        },
        "id": "VMsV9wnyMD-R",
        "outputId": "d53f2c79-72d4-487b-f887-aa3febeba13b"
      },
      "source": [
        "predknn = knn.predict(X_test)\n",
        "\n",
        "F1_Test_knn = f1_score(y_true = y_test, y_pred = predknn, average='macro')\n",
        "print(confusion_matrix(y_test, predknn))\n",
        "print(classification_report(y_test, predknn))\n",
        "print(F1_Test_knn)"
      ],
      "execution_count": null,
      "outputs": [
        {
          "output_type": "stream",
          "text": [
            "[[106   1]\n",
            " [  7  57]]\n",
            "              precision    recall  f1-score   support\n",
            "\n",
            "           B       0.94      0.99      0.96       107\n",
            "           M       0.98      0.89      0.93        64\n",
            "\n",
            "    accuracy                           0.95       171\n",
            "   macro avg       0.96      0.94      0.95       171\n",
            "weighted avg       0.95      0.95      0.95       171\n",
            "\n",
            "0.9490312965722801\n"
          ],
          "name": "stdout"
        }
      ]
    },
    {
      "cell_type": "markdown",
      "metadata": {
        "id": "6JLVfTAR9iHp"
      },
      "source": [
        "# COMPETENCIA DE MODELOS"
      ]
    },
    {
      "cell_type": "code",
      "metadata": {
        "id": "rCLksUjjubw3"
      },
      "source": [
        "Modelosfinal = pd.DataFrame({\"Modelo\":[\"Regresion Logistica\",\"Random Forest\",\n",
        "                                       \"Arbol\",\"SVM\",\"Naive Bayes\",\"XGBOOST\",\"Rede\",\"Knn\"],\n",
        "                             \"Train\":[F1_RL,F1_RF,F1_ARBOL,F1_Train_svm,F1_Train_NB,F1_XGB,F1_Train_RN,F1_Train_KNN],\n",
        "                             \"Test\":[F1_rl,F1_rf,F1_arbol,F1_Test_svm,F1_Test_nb,F1_xgb,F1_Test_RN ,F1_Test_knn]}\n",
        "    \n",
        ")"
      ],
      "execution_count": null,
      "outputs": []
    },
    {
      "cell_type": "code",
      "metadata": {
        "colab": {
          "base_uri": "https://localhost:8080/"
        },
        "id": "9F1gTrH6zNWd",
        "outputId": "5699c0e1-df7d-4c34-9226-feb5f30e3e58"
      },
      "source": [
        "Modelosfinal[\"Modelo\"].values"
      ],
      "execution_count": null,
      "outputs": [
        {
          "output_type": "execute_result",
          "data": {
            "text/plain": [
              "array(['Regresion Logistica', 'Random Forest', 'Arbol', 'SVM',\n",
              "       'Naive Bayes', 'XGBOOST', 'Rede', 'Knn'], dtype=object)"
            ]
          },
          "metadata": {
            "tags": []
          },
          "execution_count": 59
        }
      ]
    },
    {
      "cell_type": "code",
      "metadata": {
        "colab": {
          "base_uri": "https://localhost:8080/",
          "height": 482
        },
        "id": "H6dHQvt5yPGA",
        "outputId": "fc5ccbd6-4358-409c-93fe-711121d6d39e"
      },
      "source": [
        "#plt.plot(x = Modelosfinal[\"Modelo\"],y = Modelosfinal[\"Train\"] )\n",
        "\n",
        "plt.figure(figsize=(12,6))\n",
        "plt.plot(Modelosfinal[\"Modelo\"].values, Modelosfinal[\"Train\"].values,'o-',label='train' )\n",
        "plt.plot(Modelosfinal[\"Modelo\"].values, Modelosfinal[\"Test\"].values,'o-',label='test')\n",
        "plt.grid(True)\n",
        "plt.legend()\n",
        "plt.xlabel(\"Modelos\", fontweight = \"black\", fontsize = 12)\n",
        "plt.ylabel(\"F1 Score\", fontweight = \"black\", fontsize = 12)\n",
        "plt.title(\"F1 Score para distintos modelos\", fontsize = 18, color = \"r\")\n",
        "plt.xticks(rotation = 50)\n",
        "plt.show()"
      ],
      "execution_count": null,
      "outputs": [
        {
          "output_type": "display_data",
          "data": {
            "image/png": "[encoded data removed]",
            "text/plain": [
              "<Figure size 864x432 with 1 Axes>"
            ]
          },
          "metadata": {
            "tags": []
          }
        }
      ]
    },
    {
      "cell_type": "markdown",
      "metadata": {
        "id": "V31f-pkXTefs"
      },
      "source": [
        "# CONCLUSIONES"
      ]
    },
    {
      "cell_type": "markdown",
      "metadata": {
        "id": "IEDT2vC4Tvj6"
      },
      "source": [
        "Una de las características importantes dentro del desarrollo de modelos de machine learning, es poder elegir un modelo que logre predecir la probabilidad o la clase para un evento de estudio. Para el caso en particular, es fundamental desarrollar un modelo que bajo las condiciones analizadas en las masas valoradas, permita definir con precisión al paciente si la masa corresponde a una condición maligna, puesto que de ello dependerá la asignación del tratamiento médico a seguir que permita proteger y prolongar la vida de un paciente.\n",
        "\n",
        "En este caso, se cuenta con un información que demuestra tener adecuadas condiciones en su estructura y que permite generar en la gran mayoría de los casos modelos con importantes resultados estadísticos, evaluados a través de su matriz de confusión y considerando cada uno de los atributos que pueden ser considerados (precisión, recall, f1-score); no solo en la etapa de entrenamiento, sino además en la etapa de prueba para garantizar que el modelo logre generalizar de manera adecuada la precisión de los resultados.\n",
        "\n",
        "Así entonces, se evidencia como uno de los modelos que logra reducir en menor distancia el rendimiento en la fase de entrenamiento y de prueba es con el uso de svm (máquinas de soporte vectorial), con el uso de 5 data set de pruebas (k-folds) y con la variación óptima de hiperparametros que permite conservar un f1-score (métrica usada para efectos de comparación y competencia entre los modelos) mayores al 0.93.\n",
        "\n",
        "Por otro lado, se observa como modelos con mayores complejidades, como las redes neuronales,  logran superar en gran medida los resultados obtenidos en una etapa de prueba, pero representan un rendimiento mucho menor en etapas de entrenamiento, para este tipo de análisis no logran conservar un adecuado equilibrio.\n",
        "\n",
        "Otro caso que sin duda alguna llama la atención es el xgboost que demuestra como en el proceso de entrenamiento logra conservar un f1-score cercano al 0.93, pero en la fase de prueba logra reducirse hasta un 0.90.\n",
        "\n",
        "A nivel global podría interprestarse que todos los modelos logran superar unos indicadores que son positivos en términos de los resultados obtenidos, sin embargo; en asociación con el propósito del caso de estudio, se recomienda para diagnósticar un posible caso de cancer de mama un modelo SVM y Naive Bayes en segundo lugar."
      ]
    },
    {
      "cell_type": "code",
      "metadata": {
        "id": "JiYXGlOrcQTZ"
      },
      "source": [
        ""
      ],
      "execution_count": null,
      "outputs": []
    }
  ]
}